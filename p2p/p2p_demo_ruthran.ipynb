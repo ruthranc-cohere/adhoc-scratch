{
 "cells": [
  {
   "cell_type": "markdown",
   "id": "39490d62",
   "metadata": {},
   "source": [
    "## Initializations\n",
    "---"
   ]
  },
  {
   "cell_type": "code",
   "execution_count": 1,
   "id": "efb86407",
   "metadata": {
    "collapsed": true
   },
   "outputs": [
    {
     "name": "stdout",
     "output_type": "stream",
     "text": [
      "Requirement already satisfied: awswrangler in /home/ec2-user/anaconda3/envs/python3/lib/python3.10/site-packages (3.10.0)\n",
      "Requirement already satisfied: fuzzywuzzy in /home/ec2-user/anaconda3/envs/python3/lib/python3.10/site-packages (0.18.0)\n",
      "Requirement already satisfied: python-Levenshtein in /home/ec2-user/anaconda3/envs/python3/lib/python3.10/site-packages (0.26.1)\n",
      "Requirement already satisfied: boto3<2.0.0,>=1.20.32 in /home/ec2-user/anaconda3/envs/python3/lib/python3.10/site-packages (from awswrangler) (1.35.51)\n",
      "Requirement already satisfied: botocore<2.0.0,>=1.23.32 in /home/ec2-user/anaconda3/envs/python3/lib/python3.10/site-packages (from awswrangler) (1.35.51)\n",
      "Requirement already satisfied: numpy<3.0,>=1.26 in /home/ec2-user/anaconda3/envs/python3/lib/python3.10/site-packages (from awswrangler) (1.26.4)\n",
      "Requirement already satisfied: packaging<25.0,>=21.1 in /home/ec2-user/anaconda3/envs/python3/lib/python3.10/site-packages (from awswrangler) (21.3)\n",
      "Requirement already satisfied: pandas<3.0.0,>=1.2.0 in /home/ec2-user/anaconda3/envs/python3/lib/python3.10/site-packages (from awswrangler) (1.5.3)\n",
      "Requirement already satisfied: pyarrow>=8.0.0 in /home/ec2-user/anaconda3/envs/python3/lib/python3.10/site-packages (from awswrangler) (17.0.0)\n",
      "Requirement already satisfied: typing-extensions<5.0.0,>=4.4.0 in /home/ec2-user/anaconda3/envs/python3/lib/python3.10/site-packages (from awswrangler) (4.12.2)\n",
      "Requirement already satisfied: redshift-connector<3.0.0,>=2.0.0 in /home/ec2-user/anaconda3/envs/python3/lib/python3.10/site-packages (from awswrangler[redshift]) (2.1.3)\n",
      "Requirement already satisfied: Levenshtein==0.26.1 in /home/ec2-user/anaconda3/envs/python3/lib/python3.10/site-packages (from python-Levenshtein) (0.26.1)\n",
      "Requirement already satisfied: rapidfuzz<4.0.0,>=3.9.0 in /home/ec2-user/anaconda3/envs/python3/lib/python3.10/site-packages (from Levenshtein==0.26.1->python-Levenshtein) (3.10.1)\n",
      "Requirement already satisfied: jmespath<2.0.0,>=0.7.1 in /home/ec2-user/anaconda3/envs/python3/lib/python3.10/site-packages (from boto3<2.0.0,>=1.20.32->awswrangler) (1.0.1)\n",
      "Requirement already satisfied: s3transfer<0.11.0,>=0.10.0 in /home/ec2-user/anaconda3/envs/python3/lib/python3.10/site-packages (from boto3<2.0.0,>=1.20.32->awswrangler) (0.10.3)\n",
      "Requirement already satisfied: python-dateutil<3.0.0,>=2.1 in /home/ec2-user/anaconda3/envs/python3/lib/python3.10/site-packages (from botocore<2.0.0,>=1.23.32->awswrangler) (2.9.0)\n",
      "Requirement already satisfied: urllib3!=2.2.0,<3,>=1.25.4 in /home/ec2-user/anaconda3/envs/python3/lib/python3.10/site-packages (from botocore<2.0.0,>=1.23.32->awswrangler) (2.2.3)\n",
      "Requirement already satisfied: pyparsing!=3.0.5,>=2.0.2 in /home/ec2-user/anaconda3/envs/python3/lib/python3.10/site-packages (from packaging<25.0,>=21.1->awswrangler) (3.2.0)\n",
      "Requirement already satisfied: pytz>=2020.1 in /home/ec2-user/anaconda3/envs/python3/lib/python3.10/site-packages (from pandas<3.0.0,>=1.2.0->awswrangler) (2024.2)\n",
      "Requirement already satisfied: scramp<1.5.0,>=1.2.0 in /home/ec2-user/anaconda3/envs/python3/lib/python3.10/site-packages (from redshift-connector<3.0.0,>=2.0.0->awswrangler[redshift]) (1.4.5)\n",
      "Requirement already satisfied: beautifulsoup4<5.0.0,>=4.7.0 in /home/ec2-user/anaconda3/envs/python3/lib/python3.10/site-packages (from redshift-connector<3.0.0,>=2.0.0->awswrangler[redshift]) (4.12.3)\n",
      "Requirement already satisfied: requests<3.0.0,>=2.23.0 in /home/ec2-user/anaconda3/envs/python3/lib/python3.10/site-packages (from redshift-connector<3.0.0,>=2.0.0->awswrangler[redshift]) (2.32.3)\n",
      "Requirement already satisfied: lxml>=4.6.5 in /home/ec2-user/anaconda3/envs/python3/lib/python3.10/site-packages (from redshift-connector<3.0.0,>=2.0.0->awswrangler[redshift]) (5.3.0)\n",
      "Requirement already satisfied: setuptools in /home/ec2-user/anaconda3/envs/python3/lib/python3.10/site-packages (from redshift-connector<3.0.0,>=2.0.0->awswrangler[redshift]) (75.1.0)\n",
      "Requirement already satisfied: soupsieve>1.2 in /home/ec2-user/anaconda3/envs/python3/lib/python3.10/site-packages (from beautifulsoup4<5.0.0,>=4.7.0->redshift-connector<3.0.0,>=2.0.0->awswrangler[redshift]) (2.5)\n",
      "Requirement already satisfied: six>=1.5 in /home/ec2-user/anaconda3/envs/python3/lib/python3.10/site-packages (from python-dateutil<3.0.0,>=2.1->botocore<2.0.0,>=1.23.32->awswrangler) (1.16.0)\n",
      "Requirement already satisfied: charset-normalizer<4,>=2 in /home/ec2-user/anaconda3/envs/python3/lib/python3.10/site-packages (from requests<3.0.0,>=2.23.0->redshift-connector<3.0.0,>=2.0.0->awswrangler[redshift]) (3.4.0)\n",
      "Requirement already satisfied: idna<4,>=2.5 in /home/ec2-user/anaconda3/envs/python3/lib/python3.10/site-packages (from requests<3.0.0,>=2.23.0->redshift-connector<3.0.0,>=2.0.0->awswrangler[redshift]) (3.10)\n",
      "Requirement already satisfied: certifi>=2017.4.17 in /home/ec2-user/anaconda3/envs/python3/lib/python3.10/site-packages (from requests<3.0.0,>=2.23.0->redshift-connector<3.0.0,>=2.0.0->awswrangler[redshift]) (2024.8.30)\n",
      "Requirement already satisfied: asn1crypto>=1.5.1 in /home/ec2-user/anaconda3/envs/python3/lib/python3.10/site-packages (from scramp<1.5.0,>=1.2.0->redshift-connector<3.0.0,>=2.0.0->awswrangler[redshift]) (1.5.1)\n"
     ]
    }
   ],
   "source": [
    "!pip install awswrangler awswrangler[redshift] fuzzywuzzy python-Levenshtein"
   ]
  },
  {
   "cell_type": "code",
   "execution_count": 2,
   "id": "eff785aa",
   "metadata": {},
   "outputs": [
    {
     "name": "stderr",
     "output_type": "stream",
     "text": [
      "[nltk_data] Downloading package punkt_tab to\n",
      "[nltk_data]     /home/ec2-user/nltk_data...\n",
      "[nltk_data]   Package punkt_tab is already up-to-date!\n"
     ]
    }
   ],
   "source": [
    "import json\n",
    "import re\n",
    "import time\n",
    "from datetime import datetime, timedelta, timezone\n",
    "\n",
    "import boto3\n",
    "import matplotlib.pyplot as plt\n",
    "import numpy as np\n",
    "import pandas as pd\n",
    "import seaborn as sns\n",
    "import awswrangler as wr\n",
    "import nltk\n",
    "from fuzzywuzzy import fuzz, process\n",
    "from nltk.tokenize import sent_tokenize\n",
    "nltk.download('punkt_tab')\n",
    "\n",
    "from IPython.display import display, HTML, Markdown\n",
    "\n",
    "bold_start = \"\\033[1m\"\n",
    "bold_end = \"\\033[0m\""
   ]
  },
  {
   "cell_type": "code",
   "execution_count": 3,
   "id": "0688afa2",
   "metadata": {},
   "outputs": [
    {
     "data": {
      "text/plain": [
       "datetime.date(2024, 11, 21)"
      ]
     },
     "execution_count": 3,
     "metadata": {},
     "output_type": "execute_result"
    }
   ],
   "source": [
    "# Get today's date\n",
    "today = datetime.today()\n",
    "today.date()"
   ]
  },
  {
   "cell_type": "code",
   "execution_count": 4,
   "id": "cc059af9",
   "metadata": {},
   "outputs": [
    {
     "name": "stdout",
     "output_type": "stream",
     "text": [
      "CPU times: user 2.9 s, sys: 702 ms, total: 3.6 s\n",
      "Wall time: 21.4 s\n"
     ]
    }
   ],
   "source": [
    "%%time\n",
    "df_db='bd_ipa_prod'\n",
    "df_query = '''\n",
    "SELECT * \n",
    "FROM \"bd_ipa_prod\".\"p2p_hum2024_ruthran\"\n",
    "'''\n",
    "df = wr.athena.read_sql_query(df_query, database=df_db)"
   ]
  },
  {
   "cell_type": "code",
   "execution_count": 5,
   "id": "e98960c4",
   "metadata": {},
   "outputs": [
    {
     "name": "stdout",
     "output_type": "stream",
     "text": [
      "CPU times: user 4.21 s, sys: 1.54 s, total: 5.76 s\n",
      "Wall time: 9.87 s\n"
     ]
    },
    {
     "data": {
      "text/plain": [
       "(507044, 19)"
      ]
     },
     "execution_count": 5,
     "metadata": {},
     "output_type": "execute_result"
    }
   ],
   "source": [
    "%%time\n",
    "sql_review = '''\n",
    "select date_add('minute', -2, review_datecreated) AS review_datecreated,\n",
    "\tdate_add('minute', 2, review_datecompleted) AS review_datecompleted,\n",
    "\tservicerequestid as \"sr_id\",\n",
    "\treview_completedbyname,\n",
    "\treview_reviewtype,\n",
    "\trow_number() over (\n",
    "\t\tpartition by servicerequestid\n",
    "\t\torder by commitdateinstant\n",
    "\t) \"commit\",\n",
    "\treview_reviewoutcome,\n",
    "\treview_determinationnote,\n",
    "\treview_decisionreasoning,\n",
    "\tlaststate,\n",
    "\tnextstate,\n",
    "\tservicerequest_cohereid,\n",
    "\treview_id,\n",
    "\tcase\n",
    "\t\twhen servicerequest_datecreated is null then sr_datecreated else servicerequest_datecreated\n",
    "\tend as \"sr_datecreated\",\n",
    "\tcommitdateinstant,\n",
    "\tservicerequest_clinicalservicename,\n",
    "\tservicerequest_encountertype,\n",
    "\tservicerequest_patientid,\n",
    "\tservicerequest_patient_coverage_healthplanname\n",
    "from \"tableau\".\"review_production\"\n",
    "where review_reviewstatus = 'COMPLETE'\n",
    "\tand servicerequest_datecreated >= date('2024-05-01')\n",
    "\tand servicerequest_patient_coverage_healthplanname = 'Humana'\n",
    "order by 3, commitdateinstant\n",
    "'''\n",
    "reviewdf = wr.athena.read_sql_query(sql_review, database=df_db)\n",
    "reviewdf.shape"
   ]
  },
  {
   "cell_type": "code",
   "execution_count": 6,
   "id": "dd94e38b",
   "metadata": {},
   "outputs": [
    {
     "name": "stdout",
     "output_type": "stream",
     "text": [
      "CPU times: user 2.34 s, sys: 320 ms, total: 2.66 s\n",
      "Wall time: 17.7 s\n"
     ]
    }
   ],
   "source": [
    "%%time\n",
    "pp_query = '''\n",
    "with review as (\n",
    "\tselect date_add('minute', -2, review_datecreated) AS review_datecreated,\n",
    "\t\tdate_add('minute', 2, review_datecompleted) AS review_datecompleted,\n",
    "\t\tservicerequestid as \"sr_id\",\n",
    "\t\treview_completedbyname,\n",
    "\t\trow_number() over (\n",
    "\t\t\tpartition by servicerequestid\n",
    "\t\t\torder by commitdateinstant\n",
    "\t\t) \"p2p_commit\",\n",
    "\t\tservicerequest_patient_coverage_healthplanname,\n",
    "\t\tcommitdateinstant,\n",
    "\t\treview_determinationnote,\n",
    "\t\treview_reviewoutcome,\n",
    "\t\tlaststate,\n",
    "\t\tnextstate,\n",
    "\t\tservicerequest_cohereid,\n",
    "\t\treview_id,\n",
    "\t\tcase\n",
    "\t\t\twhen servicerequest_datecreated is null then sr_datecreated else servicerequest_datecreated\n",
    "\t\tend as \"sr_datecreated\",\n",
    "\t\tservicerequest_clinicalservicename,\n",
    "\t\tservicerequest_encountertype,\n",
    "\t\tservicerequest_patientid\n",
    "\tfrom \"tableau\".\"review_production\"\n",
    "\twhere review_reviewtype = 'PeerToPeerReview'\n",
    "\t\tand review_reviewstatus = 'COMPLETE'\n",
    "\t\tand commitdateinstant >= date('2024-01-01')\n",
    "\t\tand servicerequest_patient_coverage_healthplanname = 'Humana'\n",
    "),\n",
    "sfp as (\n",
    "\tselect distinct agent_name,\n",
    "\t\tagent_id,\n",
    "\t\tcall_start_time,\n",
    "\t\tcall_end_time,\n",
    "\t\thandle_time,\n",
    "\t\ttotal_call_duration,\n",
    "\t\tagent_talk_time,\n",
    "\t\tafter_call_work_time,\n",
    "\t\thold_time,\n",
    "\t\tautomation_time,\n",
    "\t\ttime_zone,\n",
    "\t\tlocal_date,\n",
    "\t\tservice_name,\n",
    "\t\tcall_transcription\n",
    "\tfrom \"tableau\".\"sf_call_summary_production\"\n",
    "\twhere year(local_date) = 2024\n",
    "\t\tand agent_role = 'MD (Clinical)'\n",
    "\t\tand service_name = 'Outbound Call'\n",
    "),\n",
    "qm as (\n",
    "\tselect servicerequest_servicerequestid,\n",
    "\t\toutcome_reviewid,\n",
    "\t\ttotaltimeworkedinseconds,\n",
    "\t\toriginal_totaltimeworkedinseconds,\n",
    "\t\toutcome_reviewoutcome,\n",
    "\t\tcasestatus,\n",
    "\t\tcasetype,\n",
    "\t\tlastupdated,\n",
    "\t\tcasestartedtimestamp,\n",
    "\t\tcasecompletedtimestamp\n",
    "\tFROM \"tableau\".\"queue_management_service_case_prod\"\n",
    "\twhere casetype = 'P2P_REVIEW'\n",
    "\t\tand datecreated >= date('2024-01-01')\n",
    "\t\tand healthplan = 'HUMANA'\n",
    "),\n",
    "pg as (\n",
    "\tselect provider_npi,\n",
    "\t\ttaxonomy_to_decide_specialty,\n",
    "\t\tcohere_specialty\n",
    "\tfrom \"production\".\"providers_global\"\n",
    "),\n",
    "srp as (\n",
    "\tselect servicerequestid,\n",
    "\t\tauthstatus,\n",
    "\t\tstd_clinical_specialty,\n",
    "\t\tpatient_coverage_healthplanname,\n",
    "\t\tprimaryprocedurecode_palcategory,\n",
    "\t\torderingprovider_npi\n",
    "\tfrom \"tableau\".\"service_request_production\"\n",
    "\twhere datecreated >= date('2024-01-01')\n",
    "),\n",
    "patient as (\n",
    "\tselect name,\n",
    "\t\tid,\n",
    "\t\tdateofbirth\n",
    "\tfrom \"analytics_dw\".\"patient\"\n",
    "),\n",
    "merged as (\n",
    "\tselect distinct rank() over(\n",
    "\t\t\tpartition by review.sr_id,\n",
    "\t\t\treview_id\n",
    "\t\t\torder by (review_datecompleted - call_end_time)\n",
    "\t\t) as rank_submitted,\n",
    "\t\t*\n",
    "\tfrom review\n",
    "\t\tleft join sfp on (\n",
    "\t\t\tlower(sfp.agent_name) = lower(review.review_completedbyname)\n",
    "\t\t\tand sfp.call_start_time >= review.review_datecreated\n",
    "\t\t\tand sfp.call_end_time <= review.review_datecompleted\n",
    "\t\t)\n",
    "\t\tleft join qm on qm.outcome_reviewid = review.review_id\n",
    "\t\tleft join srp on review.sr_id = srp.servicerequestid\n",
    "\t\tleft join pg on srp.orderingprovider_npi = pg.provider_npi\n",
    "\t\tleft join patient on review.servicerequest_patientid = patient.id\n",
    "\twhere review.sr_datecreated >= date('2024-01-01')\n",
    "\t\tand srp.patient_coverage_healthplanname = 'Humana'\n",
    "),\n",
    "clean as (\n",
    "\tselect review_id,\n",
    "\t\tagent_talk_time,\n",
    "\t\treview_reviewoutcome,\n",
    "\t\tREGEXP_REPLACE(\n",
    "\t\t\tLOWER(call_transcription),\n",
    "\t\t\t'[^a-zA-Z0-9 ]',\n",
    "\t\t\t''\n",
    "\t\t) AS clean_transcription,\n",
    "\t\tREGEXP_REPLACE(\n",
    "\t\t\tLOWER(review_determinationnote),\n",
    "\t\t\t'[^a-zA-Z0-9 ]',\n",
    "\t\t\t''\n",
    "\t\t) AS clean_determinationnote\n",
    "\tfrom merged\n",
    "\twhere rank_submitted = 1\n",
    "),\n",
    "regex_matches as (\n",
    "\tselect review_id,\n",
    "\t\tcase\n",
    "\t\t\twhen (\n",
    "\t\t\t\tclean_transcription LIKE '%unable to take your call%'\n",
    "\t\t\t\tOR clean_transcription LIKE '%forwarded to an automatic voice message system%'\n",
    "\t\t\t\tOR clean_transcription LIKE '%voicemail box is full%'\n",
    "\t\t\t\tOR clean_transcription LIKE '%forwarded to the voicemail for%'\n",
    "\t\t\t\tOR clean_transcription LIKE '%im unavailable at the moment%'\n",
    "\t\t\t\tOR clean_transcription LIKE '%currently either away from my desk%'\n",
    "\t\t\t\tOR REGEXP_LIKE(\n",
    "\t\t\t\t\tclean_transcription,\n",
    "\t\t\t\t\t'fail(ed?) p2p'\n",
    "\t\t\t\t)\n",
    "\t\t\t) then 1 else 0\n",
    "\t\tend as \"mask_no_call\",\n",
    "\t\tcase\n",
    "\t\t\twhen agent_talk_time < 70 then 1 else 0\n",
    "\t\tend as \"mask_short_call\",\n",
    "\t\tcase\n",
    "\t\t\twhen REGEXP_LIKE(\n",
    "\t\t\t\tclean_determinationnote,\n",
    "\t\t\t\t'all criteri(on|as?) met' || '|meets? guidelines?'\n",
    "\t\t\t)\n",
    "\t\t\tand review_reviewoutcome = 'APPROVED' then 1 else 0\n",
    "\t\tend as \"mask_approved_met_criteria\",\n",
    "\t\tcase\n",
    "\t\t\twhen REGEXP_LIKE(\n",
    "\t\t\t\tclean_determinationnote,\n",
    "\t\t\t\t'approved? (before|prior)'\n",
    "\t\t\t)\n",
    "\t\t\tand review_reviewoutcome = 'APPROVED' then 1 else 0\n",
    "\t\tend as \"mask_approved_before_p2p\"\n",
    "\tfrom clean\n",
    ")\n",
    "select distinct merged.sr_id,\n",
    "\tsr_datecreated,\n",
    "\treview_completedbyname as \"name_reviewer\",\n",
    "\tstd_clinical_specialty as \"specialty_service\",\n",
    "\tauthstatus,\n",
    "\tservicerequest_clinicalservicename as \"clinical_service\",\n",
    "\tservicerequest_encountertype as \"encountertype\",\n",
    "\tname as \"name_patient\",\n",
    "\tdateofbirth as \"dateofbirth_patient\",\n",
    "\tagent_talk_time,\n",
    "\ttotaltimeworkedinseconds,\n",
    "\tprimaryprocedurecode_palcategory,\n",
    "\tcohere_specialty as \"specialty_ordering_provider\",\n",
    "\treview_determinationnote,\n",
    "\tcall_transcription,\n",
    "\treview_datecreated,\n",
    "\tcall_start_time,\n",
    "\tcall_end_time,\n",
    "\treview_datecompleted,\n",
    "\tcasestartedtimestamp,\n",
    "\tcasecompletedtimestamp,\n",
    "\treview_reviewoutcome,\n",
    "\thandle_time,\n",
    "\ttotal_call_duration,\n",
    "\tafter_call_work_time,\n",
    "\thold_time,\n",
    "\tautomation_time,\n",
    "\ttime_zone,\n",
    "\tlocal_date,\n",
    "\tcommitdateinstant,\n",
    "\tp2p_commit,\n",
    "\tlaststate,\n",
    "\tnextstate,\n",
    "\tmerged.review_id,\n",
    "\tservicerequest_cohereid,\n",
    "\ttaxonomy_to_decide_specialty,\n",
    "\tmask_no_call,\n",
    "\tmask_short_call,\n",
    "\tmask_approved_met_criteria,\n",
    "\tmask_approved_before_p2p,\n",
    "\trank_submitted\n",
    "from merged\n",
    "\tleft join regex_matches rm on merged.review_id = rm.review_id\n",
    "where rank_submitted = 1\n",
    "order by sr_datecreated desc,\n",
    "\tmerged.sr_id\n",
    "'''\n",
    "pp_db = 'tableau'\n",
    "ppdf = wr.athena.read_sql_query(pp_query, database=pp_db)"
   ]
  },
  {
   "cell_type": "code",
   "execution_count": 7,
   "id": "41ec4139",
   "metadata": {},
   "outputs": [
    {
     "name": "stdout",
     "output_type": "stream",
     "text": [
      "CPU times: user 1.07 s, sys: 138 ms, total: 1.21 s\n",
      "Wall time: 5.59 s\n"
     ]
    }
   ],
   "source": [
    "%%time\n",
    "# Querying the Salesforce Vonage call data.\n",
    "sf_db = 'tableau'\n",
    "sf_query = '''\n",
    "select distinct \n",
    "    agent_name,\n",
    "\tcall_start_time,\n",
    "\tcall_end_time,\n",
    "\ttotal_call_duration,\n",
    "    call_transcription,\n",
    "    id as call_id,\n",
    "\tagent_talk_time,\n",
    "\thandle_time,\n",
    "\tafter_call_work_time,\n",
    "\thold_time,\n",
    "\tautomation_time,\n",
    "    local_date,\n",
    "\tservice_name,\n",
    "    time_zone\n",
    "from \"tableau\".\"sf_call_summary_production\"\n",
    "where local_date >= date('2024-05-01')\n",
    "\tand agent_role = 'MD (Clinical)'\n",
    "\tand service_name = 'Outbound Call'\n",
    "'''\n",
    "\n",
    "sfdf = wr.athena.read_sql_query(sf_query, database=sf_db)"
   ]
  },
  {
   "cell_type": "code",
   "execution_count": 8,
   "id": "0b76541f",
   "metadata": {},
   "outputs": [
    {
     "data": {
      "text/plain": [
       "True     22266\n",
       "False     7648\n",
       "Name: call_transcription, dtype: int64"
      ]
     },
     "execution_count": 8,
     "metadata": {},
     "output_type": "execute_result"
    }
   ],
   "source": [
    "# Empty call transcriptions.\n",
    "sfdf.call_transcription.notnull().value_counts()"
   ]
  },
  {
   "cell_type": "code",
   "execution_count": 9,
   "id": "1f80afa9",
   "metadata": {},
   "outputs": [
    {
     "data": {
      "text/html": [
       "<div>\n",
       "<style scoped>\n",
       "    .dataframe tbody tr th:only-of-type {\n",
       "        vertical-align: middle;\n",
       "    }\n",
       "\n",
       "    .dataframe tbody tr th {\n",
       "        vertical-align: top;\n",
       "    }\n",
       "\n",
       "    .dataframe thead th {\n",
       "        text-align: right;\n",
       "    }\n",
       "</style>\n",
       "<table border=\"1\" class=\"dataframe\">\n",
       "  <thead>\n",
       "    <tr style=\"text-align: right;\">\n",
       "      <th></th>\n",
       "      <th>review_id</th>\n",
       "      <th>name_reviewer</th>\n",
       "      <th>name_patient</th>\n",
       "      <th>dateofbirth_patient</th>\n",
       "      <th>clinical_service</th>\n",
       "      <th>rank_submitted</th>\n",
       "    </tr>\n",
       "  </thead>\n",
       "  <tbody>\n",
       "    <tr>\n",
       "      <th>50792</th>\n",
       "      <td>66b502103c4a887870ef5a3e</td>\n",
       "      <td>Karin Flood</td>\n",
       "      <td>SANDRA J SMITH</td>\n",
       "      <td>1952-10-12</td>\n",
       "      <td>SURGICAL BUNDLE: ROTATOR CUFF REPAIR (29827) A...</td>\n",
       "      <td>1</td>\n",
       "    </tr>\n",
       "  </tbody>\n",
       "</table>\n",
       "</div>"
      ],
      "text/plain": [
       "                      review_id name_reviewer    name_patient  \\\n",
       "50792  66b502103c4a887870ef5a3e   Karin Flood  SANDRA J SMITH   \n",
       "\n",
       "      dateofbirth_patient                                   clinical_service  \\\n",
       "50792          1952-10-12  SURGICAL BUNDLE: ROTATOR CUFF REPAIR (29827) A...   \n",
       "\n",
       "       rank_submitted  \n",
       "50792               1  "
      ]
     },
     "execution_count": 9,
     "metadata": {},
     "output_type": "execute_result"
    }
   ],
   "source": [
    "df[df.review_id == '66b502103c4a887870ef5a3e'].loc[:,['review_id', 'name_reviewer', 'name_patient', 'dateofbirth_patient', 'clinical_service', 'rank_submitted']].sort_values(by='rank_submitted')"
   ]
  },
  {
   "cell_type": "markdown",
   "id": "0276ee7e",
   "metadata": {},
   "source": [
    "### Read from AWS S3\n",
    "---"
   ]
  },
  {
   "cell_type": "code",
   "execution_count": 10,
   "id": "abd0e3ed",
   "metadata": {},
   "outputs": [],
   "source": [
    "s3_protocol = 's3://'\n",
    "s3_read_bucket = 'emr-cohere-data-management/'\n",
    "s3_read_path = 'tableau/salesforce_call_summary_by_month/202410/'\n",
    "link1 = 's3://emr-cohere-data-management/tableau/salesforce_service_request_by_month/202410/'"
   ]
  },
  {
   "cell_type": "code",
   "execution_count": 11,
   "id": "cea5c9b8",
   "metadata": {},
   "outputs": [
    {
     "name": "stderr",
     "output_type": "stream",
     "text": [
      "/home/ec2-user/anaconda3/envs/python3/lib/python3.10/site-packages/fsspec/registry.py:279: UserWarning: Your installed version of s3fs is very old and known to cause\n",
      "severe performance issues, see also https://github.com/dask/dask/issues/10276\n",
      "\n",
      "To fix, you should specify a lower version bound on s3fs, or\n",
      "update the current installation.\n",
      "\n",
      "  warnings.warn(s3_msg)\n"
     ]
    }
   ],
   "source": [
    "read = pd.read_parquet(f'{s3_protocol}{s3_read_bucket}{s3_read_path}')"
   ]
  },
  {
   "cell_type": "markdown",
   "id": "b97b0d50",
   "metadata": {},
   "source": [
    "## Preprocessing\n",
    "---"
   ]
  },
  {
   "cell_type": "code",
   "execution_count": 12,
   "id": "01ea878f",
   "metadata": {},
   "outputs": [],
   "source": [
    "# Rearranging and filtering data\n",
    "cols = ['sr_id', 'review_id', 'sr_datecreated', 'commitdateinstant', 'rank_submitted', 'name_reviewer', 'specialty_service',\n",
    "       'authstatus', 'clinical_service', 'encountertype', 'name_patient',\n",
    "       'dateofbirth_patient', 'agent_talk_time', 'totaltimeworkedinseconds',\n",
    "       'primaryprocedurecode_palcategory', 'specialty_ordering_provider',\n",
    "       'review_determinationnote', 'call_transcription', 'review_datecreated',\n",
    "       'call_start_time', 'call_end_time', 'review_datecompleted',\n",
    "       'casestartedtimestamp', 'casecompletedtimestamp',\n",
    "       'review_reviewoutcome', 'handle_time', 'total_call_duration',\n",
    "       'after_call_work_time', 'hold_time', 'automation_time', 'time_zone',\n",
    "       'local_date', 'p2p_commit', 'laststate',\n",
    "       'nextstate', 'servicerequest_cohereid',\n",
    "       'taxonomy_to_decide_specialty', 'mask_no_call', 'mask_short_call',\n",
    "       'mask_approved_met_criteria', 'mask_approved_before_p2p']"
   ]
  },
  {
   "cell_type": "code",
   "execution_count": 13,
   "id": "fd290626",
   "metadata": {},
   "outputs": [
    {
     "name": "stderr",
     "output_type": "stream",
     "text": [
      "/tmp/ipykernel_3755/1626695509.py:3: DeprecationWarning: In a future version, `df.iloc[:, i] = newvals` will attempt to set the values inplace instead of always setting a new array. To retain the old behavior, use either `df[df.columns[i]] = newvals` or, if columns are non-unique, `df.isetitem(i, newvals)`\n",
      "  data.loc[:, 'call_transcription'] = data.call_transcription.fillna('')\n"
     ]
    },
    {
     "data": {
      "text/plain": [
       "114416"
      ]
     },
     "execution_count": 13,
     "metadata": {},
     "output_type": "execute_result"
    }
   ],
   "source": [
    "# Using data from May 2024 onward.\n",
    "data = df.loc[:, cols].copy(deep=True)\n",
    "data.loc[:, 'call_transcription'] = data.call_transcription.fillna('')\n",
    "# data = data[data.commitdateinstant >= '2024-05-01'].reset_index(drop=True)\n",
    "\n",
    "# Sort by sr_datecreated, sr_id, rank_submitted\n",
    "data = data.sort_values(by=['sr_datecreated', 'sr_id', 'rank_submitted'])\n",
    "len(data)"
   ]
  },
  {
   "cell_type": "code",
   "execution_count": 14,
   "id": "b049b025",
   "metadata": {},
   "outputs": [
    {
     "name": "stdout",
     "output_type": "stream",
     "text": [
      "CPU times: user 19.2 s, sys: 96.3 ms, total: 19.3 s\n",
      "Wall time: 19.3 s\n"
     ]
    }
   ],
   "source": [
    "%%time\n",
    "for index, row in data.iterrows():\n",
    "    data.loc[index, 'length_determination_note'] = len(row.review_determinationnote.split())\n",
    "    data.loc[index, 'length_call_transcription'] = len(row.call_transcription.split())"
   ]
  },
  {
   "cell_type": "code",
   "execution_count": 15,
   "id": "22e3f301",
   "metadata": {},
   "outputs": [
    {
     "data": {
      "text/plain": [
       "5878.0"
      ]
     },
     "execution_count": 15,
     "metadata": {},
     "output_type": "execute_result"
    }
   ],
   "source": [
    "data.length_call_transcription.max()"
   ]
  },
  {
   "cell_type": "code",
   "execution_count": 16,
   "id": "ca85069f",
   "metadata": {},
   "outputs": [
    {
     "data": {
      "image/png": "[encoded data removed]",
      "text/plain": [
       "<Figure size 900x600 with 1 Axes>"
      ]
     },
     "metadata": {},
     "output_type": "display_data"
    }
   ],
   "source": [
    "# Create histogram\n",
    "plt.figure(figsize=(9, 6))\n",
    "sns.histplot(data.length_call_transcription, bins=30, kde=True, color='blue', alpha=0.7)\n",
    "plt.title('Histogram of Call Transcription Length')\n",
    "plt.xlabel('Value')\n",
    "plt.ylabel('Frequency')\n",
    "plt.show()"
   ]
  },
  {
   "cell_type": "code",
   "execution_count": 17,
   "id": "4389fca8",
   "metadata": {},
   "outputs": [
    {
     "name": "stdout",
     "output_type": "stream",
     "text": [
      "4.31% of the calls have longer than 1200 tokens.\n"
     ]
    }
   ],
   "source": [
    "max_len = 1200\n",
    "percent_large_transcript = np.round(\n",
    "    (data.length_call_transcription > max_len).sum()*100/len(data),\n",
    "    2\n",
    ")\n",
    "print(f\"{percent_large_transcript}% of the calls have longer than {max_len} tokens.\")"
   ]
  },
  {
   "cell_type": "markdown",
   "id": "a9b6ac22",
   "metadata": {},
   "source": [
    "# AWS Bedrock\n",
    "---"
   ]
  },
  {
   "cell_type": "code",
   "execution_count": 18,
   "id": "8929b87d",
   "metadata": {},
   "outputs": [
    {
     "name": "stdout",
     "output_type": "stream",
     "text": [
      "Model name, id -> \u001b[1mTitan Text Embeddings V2\u001b[0m,\t amazon.titan-embed-text-v2:0\n",
      "Model name, id -> \u001b[1mClaude 3.5 Sonnet\u001b[0m,\t anthropic.claude-3-5-sonnet-20240620-v1:0\n",
      "Model name, id -> \u001b[1mClaude 3 Haiku\u001b[0m,\t anthropic.claude-3-haiku-20240307-v1:0:200k\n",
      "Model name, id -> \u001b[1mClaude 3 Haiku\u001b[0m,\t anthropic.claude-3-haiku-20240307-v1:0\n",
      "Model name, id -> \u001b[1mLlama 3.1 8B Instruct\u001b[0m,\t meta.llama3-1-8b-instruct-v1:0:128k\n",
      "Model name, id -> \u001b[1mLlama 3.1 8B Instruct\u001b[0m,\t meta.llama3-1-8b-instruct-v1:0\n",
      "Model name, id -> \u001b[1mLlama 3.1 70B Instruct\u001b[0m,\t meta.llama3-1-70b-instruct-v1:0:128k\n",
      "Model name, id -> \u001b[1mLlama 3.1 70B Instruct\u001b[0m,\t meta.llama3-1-70b-instruct-v1:0\n",
      "Model name, id -> \u001b[1mLlama 3.2 11B Instruct\u001b[0m,\t meta.llama3-2-11b-instruct-v1:0\n",
      "Model name, id -> \u001b[1mLlama 3.2 90B Instruct\u001b[0m,\t meta.llama3-2-90b-instruct-v1:0\n",
      "Model name, id -> \u001b[1mLlama 3.2 1B Instruct\u001b[0m,\t meta.llama3-2-1b-instruct-v1:0\n",
      "Model name, id -> \u001b[1mLlama 3.2 3B Instruct\u001b[0m,\t meta.llama3-2-3b-instruct-v1:0\n"
     ]
    }
   ],
   "source": [
    "client = boto3.client('bedrock')\n",
    "\n",
    "response = client.list_foundation_models()\n",
    "models = response['modelSummaries']\n",
    "for model in models:\n",
    "    print(f\"Model name, id -> {bold_start}{model['modelName']}{bold_end},\\t {model['modelId']}\")"
   ]
  },
  {
   "cell_type": "markdown",
   "id": "0caf89aa",
   "metadata": {},
   "source": [
    "## Mapping review with call\n",
    "---"
   ]
  },
  {
   "cell_type": "code",
   "execution_count": 19,
   "id": "0acb1e8b",
   "metadata": {},
   "outputs": [
    {
     "name": "stdout",
     "output_type": "stream",
     "text": [
      "22266\n"
     ]
    }
   ],
   "source": [
    "calldf = sfdf[sfdf.call_transcription.notnull()].reset_index()\n",
    "print(len(calldf))\n",
    "# calldf.sample(2)"
   ]
  },
  {
   "cell_type": "code",
   "execution_count": 20,
   "id": "d5be4072",
   "metadata": {},
   "outputs": [],
   "source": [
    "batch_size = 100"
   ]
  },
  {
   "cell_type": "raw",
   "id": "44fa1abb",
   "metadata": {},
   "source": [
    "%%time\n",
    "bedrock_runtime = boto3.client(service_name=\"bedrock-runtime\", region_name='us-east-1')\n",
    "modelid = \"anthropic.claude-instant-v1\"\n",
    "\n",
    "# Running in batches of 100.\n",
    "for i in range(0, len(calldf), batch_size):\n",
    "    time_log = datetime.now() - timedelta(hours=4)\n",
    "    batch = calldf.iloc[i:i + batch_size]\n",
    "    \n",
    "    calls_extracts = []\n",
    "    log = []\n",
    "    indices = []\n",
    "    \n",
    "    for index, row in batch.iterrows():\n",
    "        prompt = f\"\"\"Human: This is a call transcription.\n",
    "            1. Extract the name of the patient they are discussing if a name is spoken. Clean up the names to just be first and last name\n",
    "            2. Extract the date of birth of the patient they are discussing if it's spoken. Use '' if unavailable.\n",
    "            3. Extract the age of the patient they are discussing if it's spoken. Use '' if unavailable.\n",
    "            4. Extract the authorization ID if spoken. The ID is a string with 4 lettters and 4 numbers together consecutively in the format [ABCD1234]. Use '' if unavailable.\n",
    "            For date of birth, consider formats like MM/DD/YYYY, or three consecutive numbers for month, date, and year (e.g., 051585 for May 15, 1985)\n",
    "\n",
    "            Answer output format: Name: [FIRSTNAME LASTNAME], DOB: [MM/DD/YYYY], Age: [X] years, ID: [ID]. \n",
    "            It should STRICTLY ONLY be a one line answer without any further comments from the Assistant. STRICTLY follow the above answer output format.\n",
    "            {row.call_transcription}\n",
    "\n",
    "            Assistant:\n",
    "            \"\"\"\n",
    "\n",
    "        response = bedrock_runtime.invoke_model(\n",
    "            modelId=modelid,\n",
    "            contentType=\"application/json\",\n",
    "            accept=\"application/json\",\n",
    "            body=json.dumps({\n",
    "                \"prompt\": prompt,\n",
    "                \"max_tokens_to_sample\": 1000,\n",
    "                \"temperature\": 0.7,\n",
    "                \"top_p\": 1,\n",
    "                \"top_k\": 250,\n",
    "            })\n",
    "        )\n",
    "\n",
    "        response_body = json.loads(response['body'].read())\n",
    "        call_extract = response_body.get('completion', 'No response')\n",
    "        calls_extracts += [[row.call_id, call_extract]]\n",
    "        indices += [index]\n",
    "    log += [time_log]\n",
    "        \n",
    "# Save DataFrame to CSV locally\n",
    "    path_calls = 'calls_extract.csv'\n",
    "    path_log = 'log.csv'\n",
    "    output_calls = pd.DataFrame(calls_extracts)\n",
    "    output_calls.columns = ['id', 'call_extract']\n",
    "    output_log = pd.Series(log)\n",
    "    \n",
    "    output_calls.to_csv(\n",
    "        path_calls, \n",
    "        mode='a', \n",
    "        index=False,\n",
    "        header=not pd.io.common.file_exists(path_calls))\n",
    "    output_log.to_csv(\n",
    "        path_log, \n",
    "        mode='a', \n",
    "        index=False,\n",
    "        header=not pd.io.common.file_exists(path_log))"
   ]
  },
  {
   "cell_type": "markdown",
   "id": "b85f998a",
   "metadata": {},
   "source": [
    "### Process saved call extracts\n",
    "---"
   ]
  },
  {
   "cell_type": "code",
   "execution_count": 21,
   "id": "99b405bb",
   "metadata": {},
   "outputs": [],
   "source": [
    "def clean_str_spch(\n",
    "    df,\n",
    "    cols=[],\n",
    "    age_col='extract_age',\n",
    "    exempt=[],\n",
    "):\n",
    "    \"\"\"Remove special characters from a string.\"\"\"\n",
    "    df = df.copy(deep=True)\n",
    "    if not cols:\n",
    "        cols = df.select_dtypes(include=['object']).columns.tolist()\n",
    "        cols = [col for col in cols if col not in exempt]\n",
    "    \n",
    "    for col in cols:\n",
    "        df[col] = (\n",
    "            df[col]\n",
    "            .str.replace(':', '', regex=False)\n",
    "            .str.replace('\"', '', regex=False)\n",
    "            .str.replace(',', '', regex=False)\n",
    "            .str.replace('.', '', regex=False)\n",
    "            .str.replace(\"'\", '', regex=False)\n",
    "            .str.strip()\n",
    "        )\n",
    "    if age_col in cols:\n",
    "        df[age_col] = df[age_col].str.replace(r'\\b(years?)\\b', '', case=False, regex=True)\n",
    "    return df"
   ]
  },
  {
   "cell_type": "code",
   "execution_count": 22,
   "id": "e6f650eb",
   "metadata": {
    "scrolled": true
   },
   "outputs": [
    {
     "data": {
      "text/html": [
       "<div>\n",
       "<style scoped>\n",
       "    .dataframe tbody tr th:only-of-type {\n",
       "        vertical-align: middle;\n",
       "    }\n",
       "\n",
       "    .dataframe tbody tr th {\n",
       "        vertical-align: top;\n",
       "    }\n",
       "\n",
       "    .dataframe thead th {\n",
       "        text-align: right;\n",
       "    }\n",
       "</style>\n",
       "<table border=\"1\" class=\"dataframe\">\n",
       "  <thead>\n",
       "    <tr style=\"text-align: right;\">\n",
       "      <th></th>\n",
       "      <th>call_extract</th>\n",
       "    </tr>\n",
       "    <tr>\n",
       "      <th>id</th>\n",
       "      <th></th>\n",
       "    </tr>\n",
       "  </thead>\n",
       "  <tbody>\n",
       "    <tr>\n",
       "      <th>a1aPf000000ni1yIAA</th>\n",
       "      <td>Name: Peter Rose, DOB: '', Age: '', ID: ''.</td>\n",
       "    </tr>\n",
       "    <tr>\n",
       "      <th>a1aPf000000sMZzIAM</th>\n",
       "      <td>Name: '', DOB: '', Age: '', ID: ''.</td>\n",
       "    </tr>\n",
       "  </tbody>\n",
       "</table>\n",
       "</div>"
      ],
      "text/plain": [
       "                                                    call_extract\n",
       "id                                                              \n",
       "a1aPf000000ni1yIAA   Name: Peter Rose, DOB: '', Age: '', ID: ''.\n",
       "a1aPf000000sMZzIAM           Name: '', DOB: '', Age: '', ID: ''."
      ]
     },
     "execution_count": 22,
     "metadata": {},
     "output_type": "execute_result"
    }
   ],
   "source": [
    "# Read the saved extract and process it into a DataFrame.\n",
    "path_calls = 'calls_extract.csv'\n",
    "calls_extract = pd.read_csv(path_calls)\n",
    "calls_extract = calls_extract.set_index(['id'])\n",
    "calls_extract.sample(2)"
   ]
  },
  {
   "cell_type": "code",
   "execution_count": 23,
   "id": "ad198964",
   "metadata": {},
   "outputs": [
    {
     "data": {
      "text/html": [
       "<div>\n",
       "<style scoped>\n",
       "    .dataframe tbody tr th:only-of-type {\n",
       "        vertical-align: middle;\n",
       "    }\n",
       "\n",
       "    .dataframe tbody tr th {\n",
       "        vertical-align: top;\n",
       "    }\n",
       "\n",
       "    .dataframe thead th {\n",
       "        text-align: right;\n",
       "    }\n",
       "</style>\n",
       "<table border=\"1\" class=\"dataframe\">\n",
       "  <thead>\n",
       "    <tr style=\"text-align: right;\">\n",
       "      <th></th>\n",
       "      <th>extract_name</th>\n",
       "      <th>extract_dob</th>\n",
       "      <th>extract_age</th>\n",
       "      <th>extract_id</th>\n",
       "      <th>calls_extract</th>\n",
       "    </tr>\n",
       "    <tr>\n",
       "      <th>id</th>\n",
       "      <th></th>\n",
       "      <th></th>\n",
       "      <th></th>\n",
       "      <th></th>\n",
       "      <th></th>\n",
       "    </tr>\n",
       "  </thead>\n",
       "  <tbody>\n",
       "    <tr>\n",
       "      <th>a1aPf000000kOyiIAE</th>\n",
       "      <td>: '',</td>\n",
       "      <td>: '',</td>\n",
       "      <td>: '',</td>\n",
       "      <td>NaN</td>\n",
       "      <td>Name: '', DOB: '', Age: '', ID: ''.</td>\n",
       "    </tr>\n",
       "    <tr>\n",
       "      <th>a1aPf000000QawWIAS</th>\n",
       "      <td>: Mary Bartlett,</td>\n",
       "      <td>: 03/15/53,</td>\n",
       "      <td>: 33 years,</td>\n",
       "      <td>NaN</td>\n",
       "      <td>Name: Mary Bartlett, DOB: 03/15/53, Age: 33 y...</td>\n",
       "    </tr>\n",
       "  </tbody>\n",
       "</table>\n",
       "</div>"
      ],
      "text/plain": [
       "                        extract_name  extract_dob  extract_age extract_id  \\\n",
       "id                                                                          \n",
       "a1aPf000000kOyiIAE             : '',        : '',        : '',        NaN   \n",
       "a1aPf000000QawWIAS  : Mary Bartlett,  : 03/15/53,  : 33 years,        NaN   \n",
       "\n",
       "                                                        calls_extract  \n",
       "id                                                                     \n",
       "a1aPf000000kOyiIAE                Name: '', DOB: '', Age: '', ID: ''.  \n",
       "a1aPf000000QawWIAS   Name: Mary Bartlett, DOB: 03/15/53, Age: 33 y...  "
      ]
     },
     "execution_count": 23,
     "metadata": {},
     "output_type": "execute_result"
    }
   ],
   "source": [
    "# Split on Name, DOB, Age and ID.\n",
    "extract_name = calls_extract.loc[:, 'call_extract'].str.extract(r'(?i)name\\s*(.*?)\\s*dob')\n",
    "extract_dob = calls_extract.loc[:, 'call_extract'].str.extract(r'(?i)dob\\s*(.*?)\\s*age')\n",
    "extract_age = calls_extract.loc[:, 'call_extract'].str.extract(r'(?i)age\\s*(.*?)\\s*id')\n",
    "extract_id = calls_extract.loc[:, 'call_extract'].str.extract(r'(?i)(?:\\s*\\n\\s*|\\b)\\bid\\b\\s*(.*?)(?=\\n)')\n",
    "\n",
    "extractdf = pd.concat([extract_name, extract_dob, extract_age, extract_id, calls_extract], axis=1)\n",
    "extractdf.columns = ['extract_name', 'extract_dob', 'extract_age', 'extract_id', 'calls_extract']\n",
    "extractdf.sample(2)"
   ]
  },
  {
   "cell_type": "code",
   "execution_count": 24,
   "id": "294e3637",
   "metadata": {},
   "outputs": [
    {
     "name": "stdout",
     "output_type": "stream",
     "text": [
      "(18786, 6)\n"
     ]
    },
    {
     "data": {
      "text/html": [
       "<div>\n",
       "<style scoped>\n",
       "    .dataframe tbody tr th:only-of-type {\n",
       "        vertical-align: middle;\n",
       "    }\n",
       "\n",
       "    .dataframe tbody tr th {\n",
       "        vertical-align: top;\n",
       "    }\n",
       "\n",
       "    .dataframe thead th {\n",
       "        text-align: right;\n",
       "    }\n",
       "</style>\n",
       "<table border=\"1\" class=\"dataframe\">\n",
       "  <thead>\n",
       "    <tr style=\"text-align: right;\">\n",
       "      <th></th>\n",
       "      <th>id</th>\n",
       "      <th>extract_name</th>\n",
       "      <th>extract_dob</th>\n",
       "      <th>extract_age</th>\n",
       "      <th>extract_id</th>\n",
       "      <th>calls_extract</th>\n",
       "    </tr>\n",
       "  </thead>\n",
       "  <tbody>\n",
       "    <tr>\n",
       "      <th>5043</th>\n",
       "      <td>a1aPf000000sL38IAE</td>\n",
       "      <td></td>\n",
       "      <td></td>\n",
       "      <td></td>\n",
       "      <td></td>\n",
       "      <td>Name: '', DOB: '', Age: '', ID: ''.</td>\n",
       "    </tr>\n",
       "    <tr>\n",
       "      <th>4286</th>\n",
       "      <td>a1aPf000000oMVIIA2</td>\n",
       "      <td>Anna Morris</td>\n",
       "      <td>03/21/51</td>\n",
       "      <td></td>\n",
       "      <td></td>\n",
       "      <td>Name: Anna Morris, DOB: 03/21/51, Age: '', ID...</td>\n",
       "    </tr>\n",
       "  </tbody>\n",
       "</table>\n",
       "</div>"
      ],
      "text/plain": [
       "                      id extract_name extract_dob extract_age extract_id  \\\n",
       "5043  a1aPf000000sL38IAE                                                   \n",
       "4286  a1aPf000000oMVIIA2  Anna Morris    03/21/51                          \n",
       "\n",
       "                                          calls_extract  \n",
       "5043                Name: '', DOB: '', Age: '', ID: ''.  \n",
       "4286   Name: Anna Morris, DOB: 03/21/51, Age: '', ID...  "
      ]
     },
     "execution_count": 24,
     "metadata": {},
     "output_type": "execute_result"
    }
   ],
   "source": [
    "extractdf = extractdf.fillna('')\n",
    "extractdf = clean_str_spch(extractdf, exempt=['calls_extract']).reset_index()\n",
    "print(extractdf.shape)\n",
    "extractdf.sample(2)"
   ]
  },
  {
   "cell_type": "markdown",
   "id": "590c2274",
   "metadata": {},
   "source": [
    "## Transcript\n",
    "---"
   ]
  },
  {
   "cell_type": "code",
   "execution_count": 25,
   "id": "3d0db893",
   "metadata": {},
   "outputs": [
    {
     "data": {
      "text/plain": [
       "(5350, 14)"
      ]
     },
     "execution_count": 25,
     "metadata": {},
     "output_type": "execute_result"
    }
   ],
   "source": [
    "cleandf = sfdf[\n",
    "    (sfdf.call_transcription.notnull()) & \n",
    "    (sfdf.call_end_time>=pd.to_datetime('2024-10-01')) &\n",
    "    (sfdf.total_call_duration>=60)\n",
    "]\n",
    "cleandf.shape"
   ]
  },
  {
   "cell_type": "code",
   "execution_count": 26,
   "id": "40cc08b1",
   "metadata": {},
   "outputs": [],
   "source": [
    "batch_size = 10"
   ]
  },
  {
   "cell_type": "raw",
   "id": "23a3b62d",
   "metadata": {},
   "source": [
    "%%time\n",
    "bedrock_runtime = boto3.client(service_name=\"bedrock-runtime\", region_name='us-east-1')\n",
    "modelid = \"anthropic.claude-instant-v1\"\n",
    "\n",
    "prompt_start = f\"\"\"Human:\n",
    "This is a call transcription. Clean it up.\n",
    "\"\"\"\n",
    "\n",
    "# Running in batches of 100.\n",
    "for i in range(0, len(cleandf), batch_size):\n",
    "    time_log = datetime.now() - timedelta(hours=4)\n",
    "    start_time = time.time()\n",
    "    batch = cleandf.iloc[i:i + batch_size]\n",
    "    \n",
    "    calls_cleaned = []\n",
    "    log = []\n",
    "    indices = []\n",
    "    \n",
    "    for index, row in batch.iterrows():\n",
    "        prompt = f\"\"\"{prompt_start}\n",
    "        {row.call_transcription}\n",
    "        Assistant:\n",
    "        \"\"\"\n",
    "\n",
    "        response = bedrock_runtime.invoke_model(\n",
    "            modelId=modelid,\n",
    "            contentType=\"application/json\",\n",
    "            accept=\"application/json\",\n",
    "            body=json.dumps({\n",
    "                \"prompt\": prompt,\n",
    "                \"max_tokens_to_sample\": 6000,\n",
    "                \"temperature\": 0.7,\n",
    "                \"top_p\": 0.9,\n",
    "                \"top_k\": 50,\n",
    "            })\n",
    "        )\n",
    "\n",
    "        response_body = json.loads(response['body'].read())\n",
    "        call_cleaned = response_body.get('completion', 'No response')\n",
    "        calls_cleaned += [[row.call_id, call_cleaned]]\n",
    "        indices += [index]\n",
    "    log += [time_log]\n",
    "    end_time = time.time()\n",
    "    \n",
    "#     print(f\"Execution time: {end_time - start_time} seconds\")\n",
    "        \n",
    "# Save DataFrame to CSV locally\n",
    "    path_calls = 'calls_cleaned.csv'\n",
    "    path_log = 'log_calls_cleaned.csv'\n",
    "    output_calls = pd.DataFrame(calls_cleaned)\n",
    "    output_calls.columns = ['id', 'call_cleaned']\n",
    "    output_log = pd.Series(log)\n",
    "    \n",
    "    output_calls.to_csv(\n",
    "        path_calls, \n",
    "        mode='a', \n",
    "        index=False,\n",
    "        header=not pd.io.common.file_exists(path_calls))\n",
    "    output_log.to_csv(\n",
    "        path_log, \n",
    "        mode='a', \n",
    "        index=False,\n",
    "        header=not pd.io.common.file_exists(path_log))"
   ]
  },
  {
   "cell_type": "code",
   "execution_count": null,
   "id": "31b348bf",
   "metadata": {},
   "outputs": [],
   "source": []
  },
  {
   "cell_type": "markdown",
   "id": "8d678504",
   "metadata": {},
   "source": [
    "### Read cleaned transcripts\n",
    "---"
   ]
  },
  {
   "cell_type": "code",
   "execution_count": 27,
   "id": "bd4d5479",
   "metadata": {},
   "outputs": [],
   "source": [
    "def display_text(s):\n",
    "    # Display the formatted text in a Jupyter Notebook\n",
    "    if isinstance(s, str):\n",
    "        return display(HTML(s.replace('\\n', '<br>')))\n",
    "    \n",
    "    elif isinstance(s, pd.Series):\n",
    "        return display(HTML(s.str.replace('\\n', '<br>').str.cat(sep='<br>')))"
   ]
  },
  {
   "cell_type": "code",
   "execution_count": 28,
   "id": "89d1c341",
   "metadata": {
    "scrolled": true
   },
   "outputs": [
    {
     "data": {
      "text/html": [
       "<div>\n",
       "<style scoped>\n",
       "    .dataframe tbody tr th:only-of-type {\n",
       "        vertical-align: middle;\n",
       "    }\n",
       "\n",
       "    .dataframe tbody tr th {\n",
       "        vertical-align: top;\n",
       "    }\n",
       "\n",
       "    .dataframe thead th {\n",
       "        text-align: right;\n",
       "    }\n",
       "</style>\n",
       "<table border=\"1\" class=\"dataframe\">\n",
       "  <thead>\n",
       "    <tr style=\"text-align: right;\">\n",
       "      <th></th>\n",
       "      <th>id</th>\n",
       "      <th>call_cleaned</th>\n",
       "    </tr>\n",
       "  </thead>\n",
       "  <tbody>\n",
       "    <tr>\n",
       "      <th>835</th>\n",
       "      <td>a1aPf000000tBMUIA2</td>\n",
       "      <td>Here is the cleaned-up call transcription:\\n\\...</td>\n",
       "    </tr>\n",
       "    <tr>\n",
       "      <th>1508</th>\n",
       "      <td>a1aPf000000rLs9IAE</td>\n",
       "      <td>Here is the cleaned-up call transcription:\\n\\...</td>\n",
       "    </tr>\n",
       "  </tbody>\n",
       "</table>\n",
       "</div>"
      ],
      "text/plain": [
       "                      id                                       call_cleaned\n",
       "835   a1aPf000000tBMUIA2   Here is the cleaned-up call transcription:\\n\\...\n",
       "1508  a1aPf000000rLs9IAE   Here is the cleaned-up call transcription:\\n\\..."
      ]
     },
     "execution_count": 28,
     "metadata": {},
     "output_type": "execute_result"
    }
   ],
   "source": [
    "# Read the saved extract and process it into a DataFrame.\n",
    "path_calls = 'calls_cleaned.csv'\n",
    "calls_cleaned = pd.read_csv(path_calls)\n",
    "calls_cleaned.sample(2)"
   ]
  },
  {
   "cell_type": "code",
   "execution_count": 45,
   "id": "2588030b",
   "metadata": {},
   "outputs": [
    {
     "data": {
      "text/plain": [
       "(2564, 2)"
      ]
     },
     "execution_count": 45,
     "metadata": {},
     "output_type": "execute_result"
    }
   ],
   "source": [
    "calls_cleaned.shape"
   ]
  },
  {
   "cell_type": "code",
   "execution_count": 29,
   "id": "ecfa95c7",
   "metadata": {},
   "outputs": [
    {
     "data": {
      "text/html": [
       " Here is the cleaned-up call transcription:<br><br>Thank you for choosing Cohere Health. If this is an emergency, please hang up and dial 911. <br><br>Hello?<br>Yes. Good afternoon. Dr. Khan calling from Cohere Health for Dr. Watson.<br>Okay, someone's gonna go grab her. She is coming, okay? She was in the middle of a procedure.<br>I understand. Thank you.<br><br>Hello, this is Dr. N. Watson.<br>Dr. Watson, good afternoon, Dr. Khan calling from Cohere Health, how are you today?<br>Good. How are you?<br>Good. I'm a board certified physiatrist and pain management specialist, calling on a recorded line about Charles French. Date of birth, October 31, 1956. We have your request for the spinal cord stimulator trial, but within the notes submitted by your office, there are some gaps that we want to try to fill in to see if we can get this approved.<br>Correct. <br><br>So the first thing I just wanted to mention to you is I understand this is for cervical spine. However, your staff coded this submission for lumbar radiculopathy. I did find the cervical spine ICD-10 code in the note, but in the future just to ensure that they should understand we need the correct ICD-10 code.<br>Okay.<br><br>Beyond that, I need to go over a couple of other things with you. The note says the patient had a prior surgical fusion, with no details and we have no imaging results. So we really don't know anything about his cervical spine anatomically, except that he was in an automobile accident four months ago and had an C3 fracture. Can you tell us about that prior surgery?<br><br>Yes, I'm looking at it. He had seen a nerve surgeon down in Myrtle Beach at a different office. <br><br>Who referred him back?<br><br>Doctor, any chance you could be a little closer to the speaker phone? It's a little bit difficult for me to hear you. Thank you.<br><br>Okay, alright, here we are. So he was referred by Dr. Giddons, a neurosurgeon, for a stimulator trial for cervical spine. Prior to that, I was...<br><br>Okay, so that answers one question, because it says referred by Giddons for SCS, but of course we have no idea who that is and what their qualifications are. Is he the same neurosurgeon who treated the patient for the cervical spine fracture?<br><br>I assume so. <br><br>Another words, okay, so...<br><br>What I'm unclear about is the following and, and, let me be completely transparent, the patient had a prior cervical fusion. He's been treated for chronic neck pain. He then has an MVA four months ago, fractures his neck. We don't know if the patient's a surgical candidate, we don't know if the patient's been seen by a neurosurgeon and we're trying to kind of cobble everything together. So is it reasonable to assume that he's not a surgical candidate? Because the neurosurgeon made the referral for SCS.<br><br>Right. Correct.<br><br>Okay, so that helps answer that question we still don't know. What the fusion was, or at what level was the fusion related to the MVA four months ago, or was it remote and prior to that? <br><br>Remote. It was remote.<br><br>Okay. <br><br>So we'll done remotely years ago. Okay, do you have any cervical imaging results on this patient?<br><br>Yes, I have that we did. An X-ray? <br><br>Since June 8 when he fractured his neck.<br><br>And here's the reason why I asked that. We don't know why for sure without the neurosurgical consult, and certainly without the imaging, why he has chronic neck pain into his shoulders. For all I know, he's got a disk and told the surgeon he doesn't want surgery. We really don't know.<br><br>Sure. Right. Sure. <br><br>And that becomes an issue. Because as you probably know, under Medicare, spinal cord stimulators have to be the last resort. So to be the last resort, we have to ensure that there are no other potential treatments that have been left undone.<br><br>So let me get...<br><br>Right. <br><br>So, that's gonna take me to my next question.<br><br>Correct.<br><br>There's a note that says he had a cervical RFA in August 1980. Percent relief. And your note of 9/12 says he's here today for repeat bilateral cervical ablation. <br><br>Where is the history of present illness? You're reading that?<br><br>Yeah, let me find that for you, cuz I should be able to find it fairly quickly.<br><br>Cuz in the the 9/12 note I'm reading from the top. Most recent cervical RFA done was 8/3/2022 with 80 percent relief. <br><br>Well, let me get you down to assessment and plan. <br><br>Go to number two cervical spondylosis. Kang did ablation 3/20/2023. What I don't know because beneath it, it says most recent RFA cervical, done 8/3/22 gave 80 percent relief of pain of 10. Here for repeat bilateral cervical ablation.<br><br>Okay, that was a missed print from my PA. <br><br>Which does raise an interesting question though. <br><br>Has this patient subsequent to his cervical fracture four months ago. Had any pain management treatment, because, I think it's reasonable to assume that an C3 fracture after an MVA can aggravate chronic neck pain, and so, therefore, we'd want to know has he had any injections or an RFA done since that date. Because it seems to me the last interventional procedure he had that we have a date for at least was over two years ago.<br><br>He had a cervical RFA prior to his motor vehicle accident on 4/30/2024, on the right side. Okay, prior to that, it was again right side August 23. <br><br>Okay, the patient's complaining though of chronic cervical pain going to both shoulders, suggesting his symptoms are bilateral. Has he had any interventional pain management done since the C3 fracture that was incurred during the MVA four months ago?<br><br>Because that's kind of like restarting the clock so to speak. I'm sure you can understand what I'm saying. You have a traumatic etiology of your pain, so now we have to treat the traumatic etiology of your pain and whether he was in an Aspen collar, a soft collar or both. We need to know what was done above and beyond that.<br><br>Correct. Sure, sure, right.<br><br>Right. Sure. <br><br>The other question that I would ask in that same vein. Would be. Has he had any PT, home exercises since the motor vehicle accident, again, as a measure of treatment modality to try to treat what's acute on chronic neck pain presumably?<br><br>Not ordered by this office. <br><br>Okay, so it's possible, but we don't know.<br><br>Correct. There's no mention of it that he was in physical therapy with the nurse.<br><br>In other words, we don't know what kind of care he received, right, we don't know what kind of care he received under the care of the neurosurgeon who may have been most concerned about just immobilizing his neck to let the fracture heal and nothing else was done.<br><br>Correct.<br><br>Okay, so with that in mind, my sense of all of this is. We are not at that point without getting a little bit more clarity, or a little bit more treatment that the use of the stimulator is the latest or last result, or resort, I should say for chronic intractable pain. Maybe getting some more information from the neurosurgeon would clarify that, and potentially may then lead to potentially more treatment that he needs before he would really qualify. At least, that would be my take on this.<br><br>With that in mind, I would suggest that at this point in time I don't think we can go ahead and approve this because of the missing information which would leave you with the options of either withdrawing the request, pursuing everything we just discussed or giving you what's called denial. With appeal rights, you then appeal it directly to the carrier who's Humana. But on appeal, they're going to have the right to ask you every single question that I just asked you, and if those are not satisfied and they don't overturn it on appeal, then you have to wait another 60 days before you can submit that same request for another spinal cord stimulator. <br><br>Okay, so I would - I would just withdraw it. Yeah, I would withdraw it.<br><br>So given the choice between what, okay, go ahead, please. Okay, alright, alright, so I'll withdraw it on behalf of the office. We've kind of gone over a laundry list of things we need to know about what was his prior fusion, what are his current imaging results? Is he a surgical candidate or did he just refuse surgery but I think we'd still like to know what he told. He is a surgical candidate but doesn't want it. Versus saying you're not a surgical candidate. Has he had any physical therapy and or home exercise, and has he had any injection procedures to try to treat the pain. I think once that's all clarified, whether either by it's all been done already. We just need the notes or you have to intervene and do some of those things. Then, I think it's an appropriate time to resubmit a new request if all of that has failed. Alright, with that in mind, I'll go ahead and withdraw this on behalf of your office and then we'll look forward to that next submission. Whenever the appropriate time is upon us, alright?<br><br>Sure. Okay, alright, sounds fair. Thank you.<br><br>You're welcome, thanks. Okay, thank you, Dr. Alright. Have a good day, bye bye."
      ],
      "text/plain": [
       "<IPython.core.display.HTML object>"
      ]
     },
     "metadata": {},
     "output_type": "display_data"
    }
   ],
   "source": [
    "display_text(calls_cleaned[calls_cleaned.id=='a1aPf000000sQ5hIAE'].call_cleaned)"
   ]
  },
  {
   "cell_type": "markdown",
   "id": "fb645c6b",
   "metadata": {},
   "source": [
    "## P2P only notes - Delta\n",
    "---"
   ]
  },
  {
   "cell_type": "code",
   "execution_count": 30,
   "id": "47780a16",
   "metadata": {},
   "outputs": [],
   "source": [
    "P2P_COLUMN = 'PeerToPeerReview'\n",
    "SR_ID_COLUMN = 'sr_id'\n",
    "DETERMINATIONNOTE_COLUMN = 'review_determinationnote'\n",
    "RANK_COLUMN = 'commit'\n",
    "\n",
    "sr = '65578029d986120001c7dd26'"
   ]
  },
  {
   "cell_type": "code",
   "execution_count": 31,
   "id": "f35fec2b",
   "metadata": {},
   "outputs": [],
   "source": [
    "cols = [\n",
    "    'review_datecreated',\n",
    "    'sr_id',\n",
    "    'servicerequest_cohereid',\n",
    "    'review_completedbyname',\n",
    "    'review_reviewtype',\n",
    "    'commit',\n",
    "    'review_determinationnote',\n",
    "    'review_decisionreasoning',\n",
    "    'sr_datecreated',\n",
    "]"
   ]
  },
  {
   "cell_type": "code",
   "execution_count": 32,
   "id": "16f80646",
   "metadata": {},
   "outputs": [],
   "source": [
    "def filter_rows(\n",
    "    df,\n",
    "):\n",
    "    \"\"\"Filter the DF for only the P2P service requests.\"\"\"\n",
    "    \n",
    "    df = df.copy(deep=True)\n",
    "    sr = (\n",
    "        df[df.review_reviewtype==P2P_COLUMN]\n",
    "        .drop_duplicates([SR_ID_COLUMN])\n",
    "        [SR_ID_COLUMN]\n",
    "    )\n",
    "    df = df[df.sr_id.isin(sr)]\n",
    "\n",
    "#     for sr_id, commit in commits.items():\n",
    "#         new_rows = df[(df.sr_id==sr_id) & (df.commit.isin([commit, commit-1]))]\n",
    "#         deltadf = pd.concat([deltadf, new_rows], ignore_index=True)\n",
    "    \n",
    "    return df"
   ]
  },
  {
   "cell_type": "code",
   "execution_count": 33,
   "id": "a627218a",
   "metadata": {},
   "outputs": [
    {
     "name": "stdout",
     "output_type": "stream",
     "text": [
      "(65263, 9)\n",
      "CPU times: user 249 ms, sys: 15.7 ms, total: 265 ms\n",
      "Wall time: 264 ms\n"
     ]
    }
   ],
   "source": [
    "%%time\n",
    "filterdf = filter_rows(reviewdf[cols])\n",
    "filterdf = filterdf.sort_values(by=[SR_ID_COLUMN,RANK_COLUMN])\n",
    "print(filterdf.shape)"
   ]
  },
  {
   "cell_type": "code",
   "execution_count": 34,
   "id": "589efaa3",
   "metadata": {},
   "outputs": [
    {
     "data": {
      "text/plain": [
       "Timestamp('2024-05-01 06:58:36')"
      ]
     },
     "execution_count": 34,
     "metadata": {},
     "output_type": "execute_result"
    }
   ],
   "source": [
    "reviewdf.review_datecreated.min()"
   ]
  },
  {
   "cell_type": "code",
   "execution_count": 35,
   "id": "a29dfe01",
   "metadata": {},
   "outputs": [
    {
     "data": {
      "text/html": [
       "<div>\n",
       "<style scoped>\n",
       "    .dataframe tbody tr th:only-of-type {\n",
       "        vertical-align: middle;\n",
       "    }\n",
       "\n",
       "    .dataframe tbody tr th {\n",
       "        vertical-align: top;\n",
       "    }\n",
       "\n",
       "    .dataframe thead th {\n",
       "        text-align: right;\n",
       "    }\n",
       "</style>\n",
       "<table border=\"1\" class=\"dataframe\">\n",
       "  <thead>\n",
       "    <tr style=\"text-align: right;\">\n",
       "      <th></th>\n",
       "      <th>review_datecreated</th>\n",
       "      <th>review_datecompleted</th>\n",
       "      <th>sr_id</th>\n",
       "      <th>review_completedbyname</th>\n",
       "      <th>review_reviewtype</th>\n",
       "      <th>commit</th>\n",
       "      <th>review_reviewoutcome</th>\n",
       "      <th>review_determinationnote</th>\n",
       "      <th>review_decisionreasoning</th>\n",
       "      <th>laststate</th>\n",
       "      <th>nextstate</th>\n",
       "      <th>servicerequest_cohereid</th>\n",
       "      <th>review_id</th>\n",
       "      <th>sr_datecreated</th>\n",
       "      <th>commitdateinstant</th>\n",
       "      <th>servicerequest_clinicalservicename</th>\n",
       "      <th>servicerequest_encountertype</th>\n",
       "      <th>servicerequest_patientid</th>\n",
       "      <th>servicerequest_patient_coverage_healthplanname</th>\n",
       "    </tr>\n",
       "  </thead>\n",
       "  <tbody>\n",
       "  </tbody>\n",
       "</table>\n",
       "</div>"
      ],
      "text/plain": [
       "Empty DataFrame\n",
       "Columns: [review_datecreated, review_datecompleted, sr_id, review_completedbyname, review_reviewtype, commit, review_reviewoutcome, review_determinationnote, review_decisionreasoning, laststate, nextstate, servicerequest_cohereid, review_id, sr_datecreated, commitdateinstant, servicerequest_clinicalservicename, servicerequest_encountertype, servicerequest_patientid, servicerequest_patient_coverage_healthplanname]\n",
       "Index: []"
      ]
     },
     "execution_count": 35,
     "metadata": {},
     "output_type": "execute_result"
    }
   ],
   "source": [
    "reviewdf[reviewdf.sr_id=='660d6f7f3a7b6545b5d3f5fa']"
   ]
  },
  {
   "cell_type": "code",
   "execution_count": 36,
   "id": "dee4d442",
   "metadata": {},
   "outputs": [
    {
     "data": {
      "text/html": [
       "<div>\n",
       "<style scoped>\n",
       "    .dataframe tbody tr th:only-of-type {\n",
       "        vertical-align: middle;\n",
       "    }\n",
       "\n",
       "    .dataframe tbody tr th {\n",
       "        vertical-align: top;\n",
       "    }\n",
       "\n",
       "    .dataframe thead th {\n",
       "        text-align: right;\n",
       "    }\n",
       "</style>\n",
       "<table border=\"1\" class=\"dataframe\">\n",
       "  <thead>\n",
       "    <tr style=\"text-align: right;\">\n",
       "      <th></th>\n",
       "      <th>review_datecreated</th>\n",
       "      <th>sr_id</th>\n",
       "      <th>servicerequest_cohereid</th>\n",
       "      <th>review_completedbyname</th>\n",
       "      <th>review_reviewtype</th>\n",
       "      <th>commit</th>\n",
       "      <th>review_determinationnote</th>\n",
       "      <th>review_decisionreasoning</th>\n",
       "      <th>sr_datecreated</th>\n",
       "    </tr>\n",
       "  </thead>\n",
       "  <tbody>\n",
       "  </tbody>\n",
       "</table>\n",
       "</div>"
      ],
      "text/plain": [
       "Empty DataFrame\n",
       "Columns: [review_datecreated, sr_id, servicerequest_cohereid, review_completedbyname, review_reviewtype, commit, review_determinationnote, review_decisionreasoning, sr_datecreated]\n",
       "Index: []"
      ]
     },
     "execution_count": 36,
     "metadata": {},
     "output_type": "execute_result"
    }
   ],
   "source": [
    "filterdf[filterdf.sr_id=='660d6f7f3a7b6545b5d3f5fa']"
   ]
  },
  {
   "cell_type": "code",
   "execution_count": 37,
   "id": "b88cac07",
   "metadata": {},
   "outputs": [],
   "source": [
    "def str_cleanup(string):\n",
    "    \"\"\"\n",
    "    The string contains a combination of multiple ':', '.', '\\n' and ' '.\n",
    "    It needs to be cleaned up for nltk's sent_tokenize to work well.\n",
    "    \"\"\"\n",
    "    \n",
    "    if isinstance(string, pd.Series):\n",
    "        string = string.item()\n",
    "    # Check if the input is a string\n",
    "    if not isinstance(string, str):\n",
    "        raise TypeError(\"Input sent to be cleaned must be a string.\")\n",
    "    \n",
    "    # Exceptions for e.g., y.o., ...\n",
    "    exception_lookahead = r'\\b(?:g\\.|o\\.)'\n",
    "    exception_lookbehind = r'\\b(y\\.o)'\n",
    "    \n",
    "    string = re.sub(\n",
    "        # Negative lookbehind. \n",
    "        # Captures '.' and ':'.\n",
    "        # Negative lookahead.\n",
    "        r'(?<!' + exception_lookbehind + r')'\n",
    "        r'([:.])\\s*'\n",
    "        r'(?!' + exception_lookahead + r')',\n",
    "        r'\\1\\n',\n",
    "        string\n",
    "    )\n",
    "\n",
    "    string = re.sub(r'\\n+', '.', string)\n",
    "    # Doubling the below function intentional.\n",
    "    string = re.sub(r'\\s*\\.+\\s*', '.', string)\n",
    "    string = re.sub(r'\\s+', ' ', string).strip()\n",
    "    string = re.sub(r'\\s*\\.+\\s*', '. ', string).strip()    \n",
    "    return string"
   ]
  },
  {
   "cell_type": "code",
   "execution_count": 38,
   "id": "b755ab99",
   "metadata": {},
   "outputs": [],
   "source": [
    "seq_new=filterdf[filterdf.sr_id=='663229a8ad04c268b0836382']['review_determinationnote'].iloc[3]\n",
    "seq_old=filterdf[filterdf.sr_id=='663229a8ad04c268b0836382']['review_determinationnote'].iloc[2]"
   ]
  },
  {
   "cell_type": "code",
   "execution_count": 39,
   "id": "769e4cad",
   "metadata": {},
   "outputs": [
    {
     "data": {
      "text/plain": [
       "'Clinical Summary. Chief complaint, duration, severity. 72 y. o. female who reports nonhealing wound on the right heel. Has had wound debridement and skin grafting, no wound care notes provided. PMH. PVD. CAD s/p CABG. HTN. HLD. Treatments attempted duration. Meds. Atorvastatin, ASA. Pertinent imaging findings. LEAD 4/29/24. R ABI. is 0. 68, R TBI. is 0. 33. Hemodynamically significant stenosis visualized in the right proximal SFA with peak systolic velocity 496cm. right mid SFA with peak systolic velocity 198 cm/s. Monophasic waveforms seen in the right popliteal, posterior tibial, and anterior tibial arteries. The right peroneal artery appears occluded. Plan of care. RLE intervention Femoral-Popliteal 37224, Vein Angioplasty/Stent 37238P2P Discussion with. Angie McCaffrey-Lazo, MD, 5/8/2024Decision Explanation. Withdraw 37228 she agrees, this is not needed. 37224 approved.'"
      ]
     },
     "execution_count": 39,
     "metadata": {},
     "output_type": "execute_result"
    }
   ],
   "source": [
    "str_cleanup(seq_new)"
   ]
  },
  {
   "cell_type": "code",
   "execution_count": 40,
   "id": "6c195511",
   "metadata": {},
   "outputs": [
    {
     "data": {
      "text/plain": [
       "'Clinical Summary:Chief complaint, duration, severity: 72 y.o. female who reports nonhealing wound on the right heel. Has had wound debridement and skin grafting, no wound care notes provided.PMH:  \\n \\n    PVD  \\n    CAD s/p CABG  \\n    HTN  \\n    HLD  \\n \\n  Treatments attempted   duration:   \\n \\n    Meds: Atorvastatin, ASA  \\n \\n  Pertinent imaging findings:  \\n \\n    LEAD 4/29/24: R ABI: is 0.68, R TBI: is 0.33. Hemodynamically significant stenosis visualized in the right proximal SFA with peak systolic velocity 496cm. right mid SFA with peak systolic velocity 198 cm/s. Monophasic waveforms seen in the right popliteal, posterior tibial, and anterior tibial arteries. The right peroneal artery appears occluded.  \\n \\n  Plan of care: RLE intervention Femoral-Popliteal 37224, Vein Angioplasty/Stent 37238P2P Discussion with:  Angie McCaffrey-Lazo, MD, 5/8/2024Decision Explanation: Withdraw 37228 she agrees, this is not needed.  37224 approved.'"
      ]
     },
     "execution_count": 40,
     "metadata": {},
     "output_type": "execute_result"
    }
   ],
   "source": [
    "seq_new"
   ]
  },
  {
   "cell_type": "code",
   "execution_count": 41,
   "id": "32eb560a",
   "metadata": {},
   "outputs": [
    {
     "data": {
      "text/html": [
       "<div>\n",
       "<style scoped>\n",
       "    .dataframe tbody tr th:only-of-type {\n",
       "        vertical-align: middle;\n",
       "    }\n",
       "\n",
       "    .dataframe tbody tr th {\n",
       "        vertical-align: top;\n",
       "    }\n",
       "\n",
       "    .dataframe thead th {\n",
       "        text-align: right;\n",
       "    }\n",
       "</style>\n",
       "<table border=\"1\" class=\"dataframe\">\n",
       "  <thead>\n",
       "    <tr style=\"text-align: right;\">\n",
       "      <th></th>\n",
       "      <th>agent_name</th>\n",
       "      <th>call_start_time</th>\n",
       "      <th>call_end_time</th>\n",
       "      <th>total_call_duration</th>\n",
       "      <th>call_transcription</th>\n",
       "      <th>call_id</th>\n",
       "      <th>agent_talk_time</th>\n",
       "      <th>handle_time</th>\n",
       "      <th>after_call_work_time</th>\n",
       "      <th>hold_time</th>\n",
       "      <th>automation_time</th>\n",
       "      <th>local_date</th>\n",
       "      <th>service_name</th>\n",
       "      <th>time_zone</th>\n",
       "    </tr>\n",
       "  </thead>\n",
       "  <tbody>\n",
       "    <tr>\n",
       "      <th>0</th>\n",
       "      <td>Sylvia Allwardt</td>\n",
       "      <td>2024-11-20 14:12:43</td>\n",
       "      <td>2024-11-20 14:22:49</td>\n",
       "      <td>606.00</td>\n",
       "      <td>Thank you for calling schnect surgical associa...</td>\n",
       "      <td>a1aPf000000xxnxIAA</td>\n",
       "      <td>602.00</td>\n",
       "      <td>636.00</td>\n",
       "      <td>32.00</td>\n",
       "      <td>0.00</td>\n",
       "      <td>0.00</td>\n",
       "      <td>2024-11-20</td>\n",
       "      <td>Outbound Call</td>\n",
       "      <td>America/New_York</td>\n",
       "    </tr>\n",
       "    <tr>\n",
       "      <th>1</th>\n",
       "      <td>Marshall Trusler</td>\n",
       "      <td>2024-11-08 09:35:13</td>\n",
       "      <td>2024-11-08 09:36:17</td>\n",
       "      <td>65.00</td>\n",
       "      <td>Hi, this is step saw, the physician assistant ...</td>\n",
       "      <td>a1aPf000000vwYHIAY</td>\n",
       "      <td>42.00</td>\n",
       "      <td>70.00</td>\n",
       "      <td>7.00</td>\n",
       "      <td>0.00</td>\n",
       "      <td>0.00</td>\n",
       "      <td>2024-11-08</td>\n",
       "      <td>Outbound Call</td>\n",
       "      <td>America/New_York</td>\n",
       "    </tr>\n",
       "    <tr>\n",
       "      <th>3</th>\n",
       "      <td>reena desai</td>\n",
       "      <td>2024-11-07 14:03:02</td>\n",
       "      <td>2024-11-07 14:06:34</td>\n",
       "      <td>212.00</td>\n",
       "      <td>Sada general surgery? This is Chris.\n",
       "Hi, this ...</td>\n",
       "      <td>a1aPf000000vmwZIAQ</td>\n",
       "      <td>207.00</td>\n",
       "      <td>242.00</td>\n",
       "      <td>31.00</td>\n",
       "      <td>0.00</td>\n",
       "      <td>0.00</td>\n",
       "      <td>2024-11-07</td>\n",
       "      <td>Outbound Call</td>\n",
       "      <td>America/New_York</td>\n",
       "    </tr>\n",
       "    <tr>\n",
       "      <th>4</th>\n",
       "      <td>Marvin Friedlander</td>\n",
       "      <td>2024-11-08 10:23:09</td>\n",
       "      <td>2024-11-08 10:26:56</td>\n",
       "      <td>227.00</td>\n",
       "      <td>Hey, it's erin. Come around so sorry I missed ...</td>\n",
       "      <td>a1aPf000000vx3IIAQ</td>\n",
       "      <td>220.00</td>\n",
       "      <td>256.00</td>\n",
       "      <td>31.00</td>\n",
       "      <td>0.00</td>\n",
       "      <td>0.00</td>\n",
       "      <td>2024-11-08</td>\n",
       "      <td>Outbound Call</td>\n",
       "      <td>America/New_York</td>\n",
       "    </tr>\n",
       "    <tr>\n",
       "      <th>5</th>\n",
       "      <td>Marvin Friedlander</td>\n",
       "      <td>2024-11-19 15:50:59</td>\n",
       "      <td>2024-11-19 15:52:06</td>\n",
       "      <td>67.00</td>\n",
       "      <td>Your call has been forwarded to voicemail. The...</td>\n",
       "      <td>a1aPf000000xnScIAI</td>\n",
       "      <td>44.00</td>\n",
       "      <td>97.00</td>\n",
       "      <td>31.00</td>\n",
       "      <td>0.00</td>\n",
       "      <td>0.00</td>\n",
       "      <td>2024-11-19</td>\n",
       "      <td>Outbound Call</td>\n",
       "      <td>America/New_York</td>\n",
       "    </tr>\n",
       "    <tr>\n",
       "      <th>...</th>\n",
       "      <td>...</td>\n",
       "      <td>...</td>\n",
       "      <td>...</td>\n",
       "      <td>...</td>\n",
       "      <td>...</td>\n",
       "      <td>...</td>\n",
       "      <td>...</td>\n",
       "      <td>...</td>\n",
       "      <td>...</td>\n",
       "      <td>...</td>\n",
       "      <td>...</td>\n",
       "      <td>...</td>\n",
       "      <td>...</td>\n",
       "      <td>...</td>\n",
       "    </tr>\n",
       "    <tr>\n",
       "      <th>29905</th>\n",
       "      <td>Senthil Sundaram</td>\n",
       "      <td>2024-10-29 11:10:31</td>\n",
       "      <td>2024-10-29 11:16:26</td>\n",
       "      <td>355.00</td>\n",
       "      <td>Thank you for calling advent health medical gr...</td>\n",
       "      <td>a1aPf000000uAurIAE</td>\n",
       "      <td>344.00</td>\n",
       "      <td>377.00</td>\n",
       "      <td>31.00</td>\n",
       "      <td>0.00</td>\n",
       "      <td>0.00</td>\n",
       "      <td>2024-10-29</td>\n",
       "      <td>Outbound Call</td>\n",
       "      <td>America/New_York</td>\n",
       "    </tr>\n",
       "    <tr>\n",
       "      <th>29906</th>\n",
       "      <td>Teddrick Dunson</td>\n",
       "      <td>2024-10-29 13:45:25</td>\n",
       "      <td>2024-10-29 13:47:18</td>\n",
       "      <td>112.00</td>\n",
       "      <td>Hello?\n",
       "Hi Ms. Speak with skyler Davis, please....</td>\n",
       "      <td>a1aPf000000uDxDIAU</td>\n",
       "      <td>105.00</td>\n",
       "      <td>142.00</td>\n",
       "      <td>31.00</td>\n",
       "      <td>0.00</td>\n",
       "      <td>0.00</td>\n",
       "      <td>2024-10-29</td>\n",
       "      <td>Outbound Call</td>\n",
       "      <td>America/New_York</td>\n",
       "    </tr>\n",
       "    <tr>\n",
       "      <th>29908</th>\n",
       "      <td>Amita Dharawat</td>\n",
       "      <td>2024-10-31 09:58:36</td>\n",
       "      <td>2024-10-31 10:02:25</td>\n",
       "      <td>229.00</td>\n",
       "      <td>Hello. Thank you for calling our health medica...</td>\n",
       "      <td>a1aPf000000uZ5MIAU</td>\n",
       "      <td>224.00</td>\n",
       "      <td>258.00</td>\n",
       "      <td>31.00</td>\n",
       "      <td>0.00</td>\n",
       "      <td>0.00</td>\n",
       "      <td>2024-10-31</td>\n",
       "      <td>Outbound Call</td>\n",
       "      <td>America/New_York</td>\n",
       "    </tr>\n",
       "    <tr>\n",
       "      <th>29909</th>\n",
       "      <td>Sylvia Allwardt</td>\n",
       "      <td>2024-10-31 10:49:55</td>\n",
       "      <td>2024-10-31 11:02:43</td>\n",
       "      <td>768.00</td>\n",
       "      <td>Thank you for calling willis night and robotic...</td>\n",
       "      <td>a1aPf000000uZk4IAE</td>\n",
       "      <td>758.00</td>\n",
       "      <td>798.00</td>\n",
       "      <td>31.00</td>\n",
       "      <td>0.00</td>\n",
       "      <td>0.00</td>\n",
       "      <td>2024-10-31</td>\n",
       "      <td>Outbound Call</td>\n",
       "      <td>America/New_York</td>\n",
       "    </tr>\n",
       "    <tr>\n",
       "      <th>29911</th>\n",
       "      <td>Sylvia Allwardt</td>\n",
       "      <td>2024-10-31 11:38:58</td>\n",
       "      <td>2024-10-31 11:57:49</td>\n",
       "      <td>1131.00</td>\n",
       "      <td>Thank you for calling northeast Georgia Physic...</td>\n",
       "      <td>a1aPf000000uaLpIAI</td>\n",
       "      <td>1128.00</td>\n",
       "      <td>1161.00</td>\n",
       "      <td>31.00</td>\n",
       "      <td>0.00</td>\n",
       "      <td>0.00</td>\n",
       "      <td>2024-10-31</td>\n",
       "      <td>Outbound Call</td>\n",
       "      <td>America/New_York</td>\n",
       "    </tr>\n",
       "  </tbody>\n",
       "</table>\n",
       "<p>5350 rows × 14 columns</p>\n",
       "</div>"
      ],
      "text/plain": [
       "               agent_name     call_start_time       call_end_time  \\\n",
       "0         Sylvia Allwardt 2024-11-20 14:12:43 2024-11-20 14:22:49   \n",
       "1        Marshall Trusler 2024-11-08 09:35:13 2024-11-08 09:36:17   \n",
       "3             reena desai 2024-11-07 14:03:02 2024-11-07 14:06:34   \n",
       "4      Marvin Friedlander 2024-11-08 10:23:09 2024-11-08 10:26:56   \n",
       "5      Marvin Friedlander 2024-11-19 15:50:59 2024-11-19 15:52:06   \n",
       "...                   ...                 ...                 ...   \n",
       "29905    Senthil Sundaram 2024-10-29 11:10:31 2024-10-29 11:16:26   \n",
       "29906     Teddrick Dunson 2024-10-29 13:45:25 2024-10-29 13:47:18   \n",
       "29908      Amita Dharawat 2024-10-31 09:58:36 2024-10-31 10:02:25   \n",
       "29909     Sylvia Allwardt 2024-10-31 10:49:55 2024-10-31 11:02:43   \n",
       "29911     Sylvia Allwardt 2024-10-31 11:38:58 2024-10-31 11:57:49   \n",
       "\n",
       "      total_call_duration                                 call_transcription  \\\n",
       "0                  606.00  Thank you for calling schnect surgical associa...   \n",
       "1                   65.00  Hi, this is step saw, the physician assistant ...   \n",
       "3                  212.00  Sada general surgery? This is Chris.\n",
       "Hi, this ...   \n",
       "4                  227.00  Hey, it's erin. Come around so sorry I missed ...   \n",
       "5                   67.00  Your call has been forwarded to voicemail. The...   \n",
       "...                   ...                                                ...   \n",
       "29905              355.00  Thank you for calling advent health medical gr...   \n",
       "29906              112.00  Hello?\n",
       "Hi Ms. Speak with skyler Davis, please....   \n",
       "29908              229.00  Hello. Thank you for calling our health medica...   \n",
       "29909              768.00  Thank you for calling willis night and robotic...   \n",
       "29911             1131.00  Thank you for calling northeast Georgia Physic...   \n",
       "\n",
       "                  call_id agent_talk_time handle_time after_call_work_time  \\\n",
       "0      a1aPf000000xxnxIAA          602.00      636.00                32.00   \n",
       "1      a1aPf000000vwYHIAY           42.00       70.00                 7.00   \n",
       "3      a1aPf000000vmwZIAQ          207.00      242.00                31.00   \n",
       "4      a1aPf000000vx3IIAQ          220.00      256.00                31.00   \n",
       "5      a1aPf000000xnScIAI           44.00       97.00                31.00   \n",
       "...                   ...             ...         ...                  ...   \n",
       "29905  a1aPf000000uAurIAE          344.00      377.00                31.00   \n",
       "29906  a1aPf000000uDxDIAU          105.00      142.00                31.00   \n",
       "29908  a1aPf000000uZ5MIAU          224.00      258.00                31.00   \n",
       "29909  a1aPf000000uZk4IAE          758.00      798.00                31.00   \n",
       "29911  a1aPf000000uaLpIAI         1128.00     1161.00                31.00   \n",
       "\n",
       "      hold_time automation_time  local_date   service_name         time_zone  \n",
       "0          0.00            0.00  2024-11-20  Outbound Call  America/New_York  \n",
       "1          0.00            0.00  2024-11-08  Outbound Call  America/New_York  \n",
       "3          0.00            0.00  2024-11-07  Outbound Call  America/New_York  \n",
       "4          0.00            0.00  2024-11-08  Outbound Call  America/New_York  \n",
       "5          0.00            0.00  2024-11-19  Outbound Call  America/New_York  \n",
       "...         ...             ...         ...            ...               ...  \n",
       "29905      0.00            0.00  2024-10-29  Outbound Call  America/New_York  \n",
       "29906      0.00            0.00  2024-10-29  Outbound Call  America/New_York  \n",
       "29908      0.00            0.00  2024-10-31  Outbound Call  America/New_York  \n",
       "29909      0.00            0.00  2024-10-31  Outbound Call  America/New_York  \n",
       "29911      0.00            0.00  2024-10-31  Outbound Call  America/New_York  \n",
       "\n",
       "[5350 rows x 14 columns]"
      ]
     },
     "execution_count": 41,
     "metadata": {},
     "output_type": "execute_result"
    }
   ],
   "source": [
    "cleandf"
   ]
  },
  {
   "cell_type": "code",
   "execution_count": 42,
   "id": "498cb398",
   "metadata": {},
   "outputs": [],
   "source": [
    "def seq_delta(string1, string2):\n",
    "    \"\"\"\n",
    "    Take 2 sequences and find the delta by sentence level.\n",
    "    \"\"\"\n",
    "    sent = []        \n",
    "    \n",
    "    string1 = str_cleanup(string1)\n",
    "    string2 = str_cleanup(string2)\n",
    "    # FuzzyWuzzy simple ratio difference.\n",
    "    diff = fuzz.ratio(string2, string1)\n",
    "    \n",
    "    # Tokenize the strings into sentences.\n",
    "    sequence1 = sent_tokenize(string1)\n",
    "    sequence2 = sent_tokenize(string2)\n",
    "    \n",
    "                    \n",
    "    # The first line might be a copy paste without '\\n'.\n",
    "    sent1 = []\n",
    "    if sequence1 and sequence1 and fuzz.ratio(sequence1[0], sequence2[0])!=100 and fuzz.partial_ratio(sequence1[0], sequence2[0])==100:\n",
    "        for word in sequence2[0].split():\n",
    "            if word not in sequence1[0].split():\n",
    "                sent1.append(word)\n",
    "        sequence2[0] = \" \".join(sent1)\n",
    "        \n",
    "    # Find new sentences in string.\n",
    "    # Sets are unordered, so maintain order through a list.\n",
    "    for sequence in sequence2:\n",
    "        if sequence not in set(sequence1):\n",
    "            sent.append(sequence)\n",
    "                \n",
    "    # Output the new sentences.\n",
    "    return sent, diff"
   ]
  },
  {
   "cell_type": "code",
   "execution_count": 43,
   "id": "acb9e1ac",
   "metadata": {},
   "outputs": [],
   "source": [
    "def fn(df, col, commit):\n",
    "    df = df.copy(deep=True)\n",
    "    \n",
    "    df[f'{commit}1'] = df.commit + 1\n",
    "\n",
    "    mergedf = pd.merge(\n",
    "        df, \n",
    "        df, \n",
    "        left_on=['sr_id', commit], \n",
    "        right_on=['sr_id', f'{commit}1'], \n",
    "        suffixes=('', '_1'), \n",
    "        how='left'\n",
    "    )\n",
    "    mergedf = mergedf[mergedf.review_reviewtype==P2P_COLUMN]\n",
    "    \n",
    "    for index, row in mergedf.iloc[1:].iterrows():\n",
    "        try:\n",
    "            delta, diff = seq_delta(row[f'{col}_1'], row[col])\n",
    "            delta = ' \\n'.join(s.strip() for s in delta).strip()\n",
    "            return delta\n",
    "\n",
    "            mergedf = mergedf.reset_index()[df.columns]\n",
    "            mergedf[f'{col}_cleaned'], mergedf[f'{col}_diff'] = delta, diff\n",
    "        \n",
    "        except Exception as e:\n",
    "            print(f\"Error processing index {index}: {e}\")\n",
    "            print(row)\n",
    "            return mergedf\n",
    "    \n",
    "    return mergedf"
   ]
  },
  {
   "cell_type": "code",
   "execution_count": 44,
   "id": "39ec6c11",
   "metadata": {},
   "outputs": [
    {
     "ename": "NameError",
     "evalue": "name 'seq1' is not defined",
     "output_type": "error",
     "traceback": [
      "\u001b[0;31m---------------------------------------------------------------------------\u001b[0m",
      "\u001b[0;31mNameError\u001b[0m                                 Traceback (most recent call last)",
      "Cell \u001b[0;32mIn[44], line 1\u001b[0m\n\u001b[0;32m----> 1\u001b[0m delta, diff \u001b[38;5;241m=\u001b[39m seq_delta(\u001b[43mseq1\u001b[49m,seq2)\n\u001b[1;32m      2\u001b[0m delta\n",
      "\u001b[0;31mNameError\u001b[0m: name 'seq1' is not defined"
     ]
    }
   ],
   "source": [
    "delta, diff = seq_delta(seq1,seq2)\n",
    "delta"
   ]
  },
  {
   "cell_type": "code",
   "execution_count": null,
   "id": "4ed09887",
   "metadata": {},
   "outputs": [],
   "source": [
    "display_text(' \\n'.join(s.strip() for s in delta).strip())"
   ]
  },
  {
   "cell_type": "code",
   "execution_count": null,
   "id": "579af9d1",
   "metadata": {},
   "outputs": [],
   "source": [
    "sections_seq = [\n",
    "    \"Clinical Summary\",\n",
    "    \"Plan of care\",\n",
    "    \"P2P Discussion with\",\n",
    "    \"Decision Explanation\",\n",
    "]\n",
    "sections_seq"
   ]
  },
  {
   "cell_type": "code",
   "execution_count": null,
   "id": "c960546a",
   "metadata": {},
   "outputs": [],
   "source": [
    "%%time\n",
    "cleandf = fn(filterdf.iloc[:100], DETERMINATIONNOTE_COLUMN, RANK_COLUMN)"
   ]
  },
  {
   "cell_type": "code",
   "execution_count": null,
   "id": "e8a12096",
   "metadata": {},
   "outputs": [],
   "source": [
    "cleandf"
   ]
  },
  {
   "cell_type": "code",
   "execution_count": null,
   "id": "124967f3",
   "metadata": {},
   "outputs": [],
   "source": [
    "%%time\n",
    "bedrock_runtime = boto3.client(service_name=\"bedrock-runtime\", region_name='us-east-1')\n",
    "modelid = \"anthropic.claude-instant-v1\"\n",
    "\n",
    "prompt_start = f\"\"\"Human:\n",
    "Punctuations cleanup. P2P is a separate word.\n",
    "'Clinical Summary:Chief complaint, duration, severity: 72 y. o. female who reports nonhealing wound on the right heel.',\n",
    " 'Plan of care: RLE intervention Femoral-Popliteal 37224, Vein Angioplasty/Stent 37238P2P Discussion with: Angie McCaffrey-Lazo, MD, 5/8/2024Decision Explanation: Withdraw 37228 she agrees, this is not needed.',\n",
    " '37224 approved.'\n",
    "\"\"\"\n",
    "\n",
    "prompt = f\"\"\"{prompt_start}\n",
    "Assistant:\n",
    "\"\"\"\n",
    "response = bedrock_runtime.invoke_model(\n",
    "    modelId=modelid,\n",
    "    contentType=\"application/json\",\n",
    "    accept=\"application/json\",\n",
    "    body=json.dumps({\n",
    "        \"prompt\": prompt,\n",
    "        \"max_tokens_to_sample\": 6000,\n",
    "        \"temperature\": 0.7,\n",
    "        \"top_p\": 0.9,\n",
    "        \"top_k\": 50,\n",
    "    })\n",
    ")\n",
    "\n",
    "response_body = json.loads(response['body'].read())\n",
    "call_cleaned = response_body.get('completion', 'No response')\n",
    "print(call_cleaned)"
   ]
  },
  {
   "cell_type": "code",
   "execution_count": null,
   "id": "08a6d270",
   "metadata": {},
   "outputs": [],
   "source": [
    "def add_newline_before_sections():\n",
    "    return 0"
   ]
  },
  {
   "cell_type": "markdown",
   "id": "436cfa04",
   "metadata": {},
   "source": [
    "## Text Cleanup\n",
    "---"
   ]
  },
  {
   "cell_type": "code",
   "execution_count": null,
   "id": "5befff17",
   "metadata": {},
   "outputs": [],
   "source": [
    "text = \"\"\"\n",
    "It's a great day at Cohere. My name is Martina, I have your full name and phone number, please.\n",
    "Hi, my name is susan.\n",
    "Thank you, miss susan.\n",
    "And last initial is? I'm sorry, last initial is Eight.\n",
    "Ok, thank you, miss susan. And may I also have a good phone number, our call back number for you?\n",
    "864-512-4526.\n",
    "Ok. And just to verify that was 864-512-4526. Is that correct?\n",
    "That is correct.\n",
    "Ok. And which health plan are you calling in reference to Today?\n",
    "Humana?\n",
    "And are you calling on behalf of the ordering or performing provider?\n",
    "The ordering and performing.\n",
    "Ok. And also just to verify yes, ma'am.\n",
    "And let me just tell you right quick before let me tell you right quick while I'm calling. Before we go on, my doctor did appear, appear Yesterday with One of your docs and the doctor that he did the peer to peer with, denied, One of my procedure codes but he approved the other Two now in the website on the website it got that y'all have someone has with, drown it and I need the.\n",
    "I need the authorization number for the Two code that he approved. But somebody had I got, like I said withdrawn it.\n",
    "Ok. Could you provide me with the tracking number you're calling in reference to?\n",
    "Yes, ma'am, I can it is R as in randy, T as in tony, I as in igloo, C as in Charlie lost thing 8773?\n",
    "Ok. And just to verify that was R, T, I, C 8773. Correct?\n",
    "That is great.\n",
    "And could you verify the member's name and date of birth?\n",
    "It is Carl rollins 10 27 55.\n",
    "Ok.\n",
    "Bear, bear with me. One moment. Let me review the notes on the account, ok?\n",
    "Yes, ma'am, ok.\n",
    "Ok, bear with me One moment. I'm still here, so that was 936-539-3656.\n",
    "Yes, ma'am?\n",
    "Ok, I just want to make sure so it looks like with the\n",
    "He?\n",
    "Ok, so for the Two C, P, T codes that were able to be approved, the 936-569-3653. For that one code that could not be approved, a new authorization had to be submitted, so that was submitted, and it is approved. If you would like, I can provide you with the uten Tracking ID number, so the withdrawn case yes, ma'am. That withdrawn case is due to that One code that could not be approved, so the new Tracking ID. I'm sorry. The new option number is 195-370-999.\n",
    "That would be great, ok?\n",
    "Again, that was 195-370-999. And if you would like that Tracking ID number as well is G T, A, R 1391, so G T A R 1391.\n",
    "Ok.\n",
    "And the dates of services 86 of 24 until 96 24 for C, P, C code 936-569-3653.\n",
    "Ok.\n",
    "So when I go in here and look at my at the?\n",
    "The website? Should I not be able to see that?\n",
    "Yes, ma'am you?\n",
    "Sometimes, if you are not the person, yes, ma'am, the one that was previously withdrawn. That's the one you're able to see correct. Sometimes, if you are not the person that submitted the authorization via the portal, you would need to look it up by clicking on start authorquest and entering the members, I, D and date of birth, and then click on patient summary.\n",
    "Cuz, I've seen the one where that seen it.\n",
    "Go ahead, I'm sorry.\n",
    "Yeah.\n",
    "Yeah, and I am. I am the yeah, I'm sorry. I am the one that I'm sorry. I am the one that did the authorization, I did it. And I can see you know the withdraw one and because I did do it myself and I actually went in there. And the old one, the one that was withdrawn. I went in there and tried to remove the 33340 so I could, you know would be able to use that. But then I seen the the withdrawn thing but does it take it little while for it to upload or because I'm still not seeing it?\n",
    "Ok.\n",
    "No ma'am, who no ma'am, whoever updated the authorization due to that C, P, T code not being able to be removed from the request. The reason you're not able to see it is because a new submission was done so like I said, it was submitted by us on our end. So, with it being resubmitted and a new authorization being submitted, you would click on start a request to answer the members, I, D, and date of birth, to pull up the patients to view all of the authorizations that the member has on file, versus just the ones that you submitted. To see the one that I'm referencing to.\n",
    "Ok, so that's usually a place that I can put the new tracking number in as well. Where would I do that? Because, I usually can.\n",
    "Yes, ma'am on the dashboard. If you enter it on the dashboard, it may pull up just in the event that it doesn't, you would need to do it. The additional way, start a request to answer the I D and date of birth, but you can try enter it on the dashboard. Click on Cohere health, and that'll take you back to the dashboard and in that search bar, inter that Tracking ID number that was provided.\n",
    "Ok, I can right there. Ok. Thank you so much for your help, marcia, and you have a wonderful rest of your Day.\n",
    "You're more than welcome, and just to verify if there anything else I can assist you with Today.\n",
    "No, ma'am. I thank you for all of your help.\n",
    "You're welcome, and thank you for calling Cohere help you. Have a great day if there's nothing more than I can assist you with?\n",
    "You as well. Bye bye.\n",
    "Bye, bye.\n",
    "\"\"\""
   ]
  },
  {
   "cell_type": "code",
   "execution_count": null,
   "id": "e6271b87",
   "metadata": {},
   "outputs": [],
   "source": [
    "%%time\n",
    "bedrock_runtime = boto3.client(service_name=\"bedrock-runtime\", region_name='us-east-1')\n",
    "modelid = \"anthropic.claude-instant-v1\"\n",
    "\n",
    "prompt_start = f\"\"\"Human:\n",
    "Clean this up.\n",
    "\"\"\"\n",
    "\n",
    "prompt = f\"\"\"{prompt_start}\n",
    "{text}\n",
    "Assistant:\n",
    "\"\"\"\n",
    "response = bedrock_runtime.invoke_model(\n",
    "    modelId=modelid,\n",
    "    contentType=\"application/json\",\n",
    "    accept=\"application/json\",\n",
    "    body=json.dumps({\n",
    "        \"prompt\": prompt,\n",
    "        \"max_tokens_to_sample\": 6000,\n",
    "        \"temperature\": 0.7,\n",
    "        \"top_p\": 0.9,\n",
    "        \"top_k\": 50,\n",
    "    })\n",
    ")\n",
    "\n",
    "response_body = json.loads(response['body'].read())\n",
    "call_cleaned = response_body.get('completion', 'No response')\n",
    "print(call_cleaned)"
   ]
  },
  {
   "cell_type": "markdown",
   "id": "155e3361",
   "metadata": {},
   "source": [
    "## Write to S3 bucket\n",
    "---"
   ]
  },
  {
   "cell_type": "code",
   "execution_count": null,
   "id": "173cc86e",
   "metadata": {},
   "outputs": [],
   "source": [
    "# Define S3 bucket name and object name\n",
    "s3_uri = 's3://tf-cohere-health-team-intelligent-prior-auth/users/ruthranc/'\n",
    "bucket_name = 'tf-cohere-health-team-intelligent-prior-auth'\n",
    "s3_file_path = 'users/ruthranc/p2p_hum2024_bedrock.csv'\n",
    "\n",
    "# Initialize S3 client\n",
    "s3_client = boto3.client('s3')\n",
    "\n",
    "# Upload the CSV file\n",
    "s3_client.upload_file(csv_file_path, bucket_name, s3_file_path)\n",
    "\n",
    "print(f'Successfully uploaded {csv_file_path} to s3://{bucket_name}/{s3_file_path}')"
   ]
  },
  {
   "cell_type": "code",
   "execution_count": null,
   "id": "251861ab",
   "metadata": {},
   "outputs": [],
   "source": [
    "import sagemaker\n",
    "from sagemaker.processing import ScriptProcessor\n",
    "from sagemaker import get_execution_role\n",
    "\n",
    "# Step 1: Set up your SageMaker session and role\n",
    "sagemaker_session = sagemaker.Session()\n",
    "role = get_execution_role()  # Ensure you have the appropriate permissions\n",
    "\n",
    "# Step 2: Define your processing script\n",
    "# Assume 'process_data.py' is your script that processes the data\n",
    "script_name = 'process_data.py'\n",
    "\n",
    "# Step 3: Define the ScriptProcessor\n",
    "script_processor = ScriptProcessor(\n",
    "    role=role,\n",
    "    image_uri='your-processing-image',  # Specify your Docker image URI\n",
    "    command=['python3'],\n",
    "    instance_count=1,\n",
    "    instance_type='ml.m5.large',  # Choose an appropriate instance type\n",
    "    sagemaker_session=sagemaker_session,\n",
    ")\n",
    "\n",
    "# Step 4: Define input and output\n",
    "inputs = 's3://your-bucket/path/to/input/data'  # Input data location\n",
    "outputs = 's3://your-bucket/path/to/output/data'  # Output data location\n",
    "\n",
    "# Step 5: Run the Processing Job\n",
    "script_processor.run(\n",
    "    code=script_name,\n",
    "    inputs=[sagemaker.inputs.TrainingInput(s3_data=inputs, content_type='text/csv')],\n",
    "    outputs=[sagemaker.inputs.TrainingInput(s3_data=outputs)],\n",
    "    arguments=['--arg1', 'value1', '--arg2', 'value2'],  # Additional arguments for your script\n",
    ")\n",
    "\n",
    "print(\"Processing job submitted!\")"
   ]
  },
  {
   "cell_type": "code",
   "execution_count": null,
   "id": "2c338725",
   "metadata": {},
   "outputs": [],
   "source": []
  },
  {
   "cell_type": "code",
   "execution_count": null,
   "id": "c03538a7",
   "metadata": {},
   "outputs": [],
   "source": []
  },
  {
   "cell_type": "code",
   "execution_count": null,
   "id": "57a72ebc",
   "metadata": {},
   "outputs": [],
   "source": []
  },
  {
   "cell_type": "code",
   "execution_count": null,
   "id": "14b07251",
   "metadata": {},
   "outputs": [],
   "source": []
  }
 ],
 "metadata": {
  "kernelspec": {
   "display_name": "conda_python3",
   "language": "python",
   "name": "conda_python3"
  },
  "language_info": {
   "codemirror_mode": {
    "name": "ipython",
    "version": 3
   },
   "file_extension": ".py",
   "mimetype": "text/x-python",
   "name": "python",
   "nbconvert_exporter": "python",
   "pygments_lexer": "ipython3",
   "version": "3.10.15"
  }
 },
 "nbformat": 4,
 "nbformat_minor": 5
}
