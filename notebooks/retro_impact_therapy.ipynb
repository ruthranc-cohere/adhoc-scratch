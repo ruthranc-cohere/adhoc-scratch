{
 "cells": [
  {
   "cell_type": "code",
   "id": "initial_id",
   "metadata": {
    "collapsed": true,
    "ExecuteTime": {
     "end_time": "2024-11-18T18:35:49.132730Z",
     "start_time": "2024-11-18T18:35:49.127174Z"
    }
   },
   "source": [
    "import pandas as pd\n",
    "import ast\n",
    "import json\n",
    "import numpy as np\n",
    "from bokeh.layouts import column"
   ],
   "outputs": [],
   "execution_count": 448
  },
  {
   "metadata": {
    "ExecuteTime": {
     "end_time": "2024-11-18T18:35:49.181642Z",
     "start_time": "2024-11-18T18:35:49.150018Z"
    }
   },
   "cell_type": "code",
   "source": [
    "query = \"\"\"\n",
    "select cohereid,\n",
    "\trequesttype,\n",
    "\tunits,\n",
    "\tapprovedunits,\n",
    "\tprocedurecode,\n",
    "\tprocedurecodes_units,\n",
    "\tprocedurecodes_maxunits,\n",
    "\tprocedurecodes_approvedunits,\n",
    "\tauthstatus,\n",
    "\tprimarydiagnosis_code,\n",
    "\tdiagnosiscodes_code,\n",
    "\tprimarydiagnosis_description,\n",
    "\tdiagnosiscodes_description,\n",
    "\tcardio_diagnosiscode_flag\n",
    "from tableau.service_request_production\n",
    "where submission_year >= 2024\n",
    "\tand patient_coverage_healthplanname = 'Humana'\n",
    "\tand std_clinical_specialty = 'Therapy'\n",
    "\tand auto_approved_new = 'FALSE'\n",
    "\tand authstatus <> 'VOIDED'\n",
    "\"\"\"\n",
    "# This is the query used for the data below.\n",
    "df = pd.read_csv(\"../data/therapy.csv\")\n",
    "df"
   ],
   "id": "dd570a08510ede3d",
   "outputs": [
    {
     "data": {
      "text/plain": [
       "      cohereid   requesttype  units  approvedunits  \\\n",
       "0     TDIV2272       INITIAL    8.0            8.0   \n",
       "1     ZTET7281       INITIAL    9.0            9.0   \n",
       "2     NVRQ1729       INITIAL    8.0            8.0   \n",
       "3     JELR1259       INITIAL    8.0            8.0   \n",
       "4     MOGC4535       INITIAL   11.0           11.0   \n",
       "...        ...           ...    ...            ...   \n",
       "5677  SNAY4550  CONTINUATION   60.0           10.0   \n",
       "5678  WFCY6253  CONTINUATION   12.0           12.0   \n",
       "5679  YTLN4400       INITIAL   11.0           11.0   \n",
       "5680  YTOH1760       INITIAL    1.0            0.0   \n",
       "5681  ZZRP4698  CONTINUATION   75.0            0.0   \n",
       "\n",
       "                                          procedurecode  \\\n",
       "0                            97110, 97116, 97140, 97039   \n",
       "1                            97164, G0283, 97110, 97530   \n",
       "2                            97110, 97140, 97530, G0283   \n",
       "3                   97012,97035,G0283,97110,97112,97140   \n",
       "4                         97164,G0283,97110,97140,97530   \n",
       "...                                                 ...   \n",
       "5677  97110,97112,97530,97150,97535,97110,97112,9753...   \n",
       "5678    97024,97760,97763,G0283,97110,97112,97140,97530   \n",
       "5679  97164,97033,G0283,97014,97110,97112,97116,9714...   \n",
       "5680                                              97139   \n",
       "5681                      97110,97112,97140,97530,97012   \n",
       "\n",
       "                          procedurecodes_units  \\\n",
       "0                                 [8, 8, 8, 8]   \n",
       "1                                 [1, 8, 8, 8]   \n",
       "2                                 [8, 8, 8, 8]   \n",
       "3                           [8, 8, 8, 8, 8, 8]   \n",
       "4                          [1, 10, 10, 10, 10]   \n",
       "...                                        ...   \n",
       "5677  [10, 10, 10, 10, 10, 10, 10, 10, 10, 10]   \n",
       "5678          [12, 12, 12, 12, 12, 12, 12, 12]   \n",
       "5679   [1, 10, 10, 10, 10, 10, 10, 10, 10, 10]   \n",
       "5680                                       [1]   \n",
       "5681                      [15, 15, 15, 15, 15]   \n",
       "\n",
       "             procedurecodes_maxunits  \\\n",
       "0                       [8, 4, 6, 1]   \n",
       "1                       [1, 1, 8, 6]   \n",
       "2                       [8, 6, 6, 1]   \n",
       "3                 [1, 2, 1, 8, 6, 6]   \n",
       "4                    [1, 1, 8, 6, 6]   \n",
       "...                              ...   \n",
       "5677  [8, 6, 6, 2, 8, 8, 6, 6, 2, 8]   \n",
       "5678        [1, 6, 6, 1, 8, 6, 6, 6]   \n",
       "5679  [1, 4, 1, 1, 8, 6, 4, 6, 6, 1]   \n",
       "5680                             [1]   \n",
       "5681                 [8, 6, 6, 6, 1]   \n",
       "\n",
       "                  procedurecodes_approvedunits authstatus  \\\n",
       "0                                 [8, 8, 8, 8]   APPROVED   \n",
       "1                                 [1, 8, 8, 8]   APPROVED   \n",
       "2                                 [8, 8, 8, 8]   APPROVED   \n",
       "3                           [8, 8, 8, 8, 8, 8]   APPROVED   \n",
       "4                          [1, 10, 10, 10, 10]   APPROVED   \n",
       "...                                        ...        ...   \n",
       "5677  [10, 10, 10, 10, 10, 10, 10, 10, 10, 10]   APPROVED   \n",
       "5678          [12, 12, 12, 12, 12, 12, 12, 12]   APPROVED   \n",
       "5679   [1, 10, 10, 10, 10, 10, 10, 10, 10, 10]   APPROVED   \n",
       "5680                                    [null]     DENIED   \n",
       "5681                           [0, 0, 0, 0, 0]     DENIED   \n",
       "\n",
       "     primarydiagnosis_code              diagnosiscodes_code  \\\n",
       "0                    M54.2                               []   \n",
       "1                  M25.512                               []   \n",
       "2                  M25.521                        [M25.531]   \n",
       "3                   M54.16                 [M51.36, M54.50]   \n",
       "4                   M17.12                 [Z96.652, R26.9]   \n",
       "...                    ...                              ...   \n",
       "5677                I50.33                               []   \n",
       "5678                M62.89                        [M24.542]   \n",
       "5679                 M54.2                        [M47.812]   \n",
       "5680               M79.642                               []   \n",
       "5681                 M54.2  [M25.69, R53.1, M25.552, R26.2]   \n",
       "\n",
       "                           primarydiagnosis_description  \\\n",
       "0                                           Cervicalgia   \n",
       "1                                 Pain in left shoulder   \n",
       "2                                   Pain in right elbow   \n",
       "3                          Radiculopathy, lumbar region   \n",
       "4          Unilateral primary osteoarthritis, left knee   \n",
       "...                                                 ...   \n",
       "5677  Acute on chronic diastolic (congestive) heart ...   \n",
       "5678                Other specified disorders of muscle   \n",
       "5679                                        Cervicalgia   \n",
       "5680                                  Pain in left hand   \n",
       "5681                                        Cervicalgia   \n",
       "\n",
       "                             diagnosiscodes_description  \\\n",
       "0                                                    []   \n",
       "1                                                    []   \n",
       "2                                 [Pain in right wrist]   \n",
       "3     [Other intervertebral disc degeneration, lumba...   \n",
       "4     [Presence of left artificial knee joint, Unspe...   \n",
       "...                                                 ...   \n",
       "5677                                                 []   \n",
       "5678                           [Contracture, left hand]   \n",
       "5679  [Spondylosis without myelopathy or radiculopat...   \n",
       "5680                                                 []   \n",
       "5681  [Stiffness of other specified joint, not elsew...   \n",
       "\n",
       "      cardio_diagnosiscode_flag  \n",
       "0                         False  \n",
       "1                         False  \n",
       "2                         False  \n",
       "3                         False  \n",
       "4                         False  \n",
       "...                         ...  \n",
       "5677                       True  \n",
       "5678                      False  \n",
       "5679                      False  \n",
       "5680                      False  \n",
       "5681                      False  \n",
       "\n",
       "[5682 rows x 14 columns]"
      ],
      "text/html": [
       "<div>\n",
       "<style scoped>\n",
       "    .dataframe tbody tr th:only-of-type {\n",
       "        vertical-align: middle;\n",
       "    }\n",
       "\n",
       "    .dataframe tbody tr th {\n",
       "        vertical-align: top;\n",
       "    }\n",
       "\n",
       "    .dataframe thead th {\n",
       "        text-align: right;\n",
       "    }\n",
       "</style>\n",
       "<table border=\"1\" class=\"dataframe\">\n",
       "  <thead>\n",
       "    <tr style=\"text-align: right;\">\n",
       "      <th></th>\n",
       "      <th>cohereid</th>\n",
       "      <th>requesttype</th>\n",
       "      <th>units</th>\n",
       "      <th>approvedunits</th>\n",
       "      <th>procedurecode</th>\n",
       "      <th>procedurecodes_units</th>\n",
       "      <th>procedurecodes_maxunits</th>\n",
       "      <th>procedurecodes_approvedunits</th>\n",
       "      <th>authstatus</th>\n",
       "      <th>primarydiagnosis_code</th>\n",
       "      <th>diagnosiscodes_code</th>\n",
       "      <th>primarydiagnosis_description</th>\n",
       "      <th>diagnosiscodes_description</th>\n",
       "      <th>cardio_diagnosiscode_flag</th>\n",
       "    </tr>\n",
       "  </thead>\n",
       "  <tbody>\n",
       "    <tr>\n",
       "      <th>0</th>\n",
       "      <td>TDIV2272</td>\n",
       "      <td>INITIAL</td>\n",
       "      <td>8.0</td>\n",
       "      <td>8.0</td>\n",
       "      <td>97110, 97116, 97140, 97039</td>\n",
       "      <td>[8, 8, 8, 8]</td>\n",
       "      <td>[8, 4, 6, 1]</td>\n",
       "      <td>[8, 8, 8, 8]</td>\n",
       "      <td>APPROVED</td>\n",
       "      <td>M54.2</td>\n",
       "      <td>[]</td>\n",
       "      <td>Cervicalgia</td>\n",
       "      <td>[]</td>\n",
       "      <td>False</td>\n",
       "    </tr>\n",
       "    <tr>\n",
       "      <th>1</th>\n",
       "      <td>ZTET7281</td>\n",
       "      <td>INITIAL</td>\n",
       "      <td>9.0</td>\n",
       "      <td>9.0</td>\n",
       "      <td>97164, G0283, 97110, 97530</td>\n",
       "      <td>[1, 8, 8, 8]</td>\n",
       "      <td>[1, 1, 8, 6]</td>\n",
       "      <td>[1, 8, 8, 8]</td>\n",
       "      <td>APPROVED</td>\n",
       "      <td>M25.512</td>\n",
       "      <td>[]</td>\n",
       "      <td>Pain in left shoulder</td>\n",
       "      <td>[]</td>\n",
       "      <td>False</td>\n",
       "    </tr>\n",
       "    <tr>\n",
       "      <th>2</th>\n",
       "      <td>NVRQ1729</td>\n",
       "      <td>INITIAL</td>\n",
       "      <td>8.0</td>\n",
       "      <td>8.0</td>\n",
       "      <td>97110, 97140, 97530, G0283</td>\n",
       "      <td>[8, 8, 8, 8]</td>\n",
       "      <td>[8, 6, 6, 1]</td>\n",
       "      <td>[8, 8, 8, 8]</td>\n",
       "      <td>APPROVED</td>\n",
       "      <td>M25.521</td>\n",
       "      <td>[M25.531]</td>\n",
       "      <td>Pain in right elbow</td>\n",
       "      <td>[Pain in right wrist]</td>\n",
       "      <td>False</td>\n",
       "    </tr>\n",
       "    <tr>\n",
       "      <th>3</th>\n",
       "      <td>JELR1259</td>\n",
       "      <td>INITIAL</td>\n",
       "      <td>8.0</td>\n",
       "      <td>8.0</td>\n",
       "      <td>97012,97035,G0283,97110,97112,97140</td>\n",
       "      <td>[8, 8, 8, 8, 8, 8]</td>\n",
       "      <td>[1, 2, 1, 8, 6, 6]</td>\n",
       "      <td>[8, 8, 8, 8, 8, 8]</td>\n",
       "      <td>APPROVED</td>\n",
       "      <td>M54.16</td>\n",
       "      <td>[M51.36, M54.50]</td>\n",
       "      <td>Radiculopathy, lumbar region</td>\n",
       "      <td>[Other intervertebral disc degeneration, lumba...</td>\n",
       "      <td>False</td>\n",
       "    </tr>\n",
       "    <tr>\n",
       "      <th>4</th>\n",
       "      <td>MOGC4535</td>\n",
       "      <td>INITIAL</td>\n",
       "      <td>11.0</td>\n",
       "      <td>11.0</td>\n",
       "      <td>97164,G0283,97110,97140,97530</td>\n",
       "      <td>[1, 10, 10, 10, 10]</td>\n",
       "      <td>[1, 1, 8, 6, 6]</td>\n",
       "      <td>[1, 10, 10, 10, 10]</td>\n",
       "      <td>APPROVED</td>\n",
       "      <td>M17.12</td>\n",
       "      <td>[Z96.652, R26.9]</td>\n",
       "      <td>Unilateral primary osteoarthritis, left knee</td>\n",
       "      <td>[Presence of left artificial knee joint, Unspe...</td>\n",
       "      <td>False</td>\n",
       "    </tr>\n",
       "    <tr>\n",
       "      <th>...</th>\n",
       "      <td>...</td>\n",
       "      <td>...</td>\n",
       "      <td>...</td>\n",
       "      <td>...</td>\n",
       "      <td>...</td>\n",
       "      <td>...</td>\n",
       "      <td>...</td>\n",
       "      <td>...</td>\n",
       "      <td>...</td>\n",
       "      <td>...</td>\n",
       "      <td>...</td>\n",
       "      <td>...</td>\n",
       "      <td>...</td>\n",
       "      <td>...</td>\n",
       "    </tr>\n",
       "    <tr>\n",
       "      <th>5677</th>\n",
       "      <td>SNAY4550</td>\n",
       "      <td>CONTINUATION</td>\n",
       "      <td>60.0</td>\n",
       "      <td>10.0</td>\n",
       "      <td>97110,97112,97530,97150,97535,97110,97112,9753...</td>\n",
       "      <td>[10, 10, 10, 10, 10, 10, 10, 10, 10, 10]</td>\n",
       "      <td>[8, 6, 6, 2, 8, 8, 6, 6, 2, 8]</td>\n",
       "      <td>[10, 10, 10, 10, 10, 10, 10, 10, 10, 10]</td>\n",
       "      <td>APPROVED</td>\n",
       "      <td>I50.33</td>\n",
       "      <td>[]</td>\n",
       "      <td>Acute on chronic diastolic (congestive) heart ...</td>\n",
       "      <td>[]</td>\n",
       "      <td>True</td>\n",
       "    </tr>\n",
       "    <tr>\n",
       "      <th>5678</th>\n",
       "      <td>WFCY6253</td>\n",
       "      <td>CONTINUATION</td>\n",
       "      <td>12.0</td>\n",
       "      <td>12.0</td>\n",
       "      <td>97024,97760,97763,G0283,97110,97112,97140,97530</td>\n",
       "      <td>[12, 12, 12, 12, 12, 12, 12, 12]</td>\n",
       "      <td>[1, 6, 6, 1, 8, 6, 6, 6]</td>\n",
       "      <td>[12, 12, 12, 12, 12, 12, 12, 12]</td>\n",
       "      <td>APPROVED</td>\n",
       "      <td>M62.89</td>\n",
       "      <td>[M24.542]</td>\n",
       "      <td>Other specified disorders of muscle</td>\n",
       "      <td>[Contracture, left hand]</td>\n",
       "      <td>False</td>\n",
       "    </tr>\n",
       "    <tr>\n",
       "      <th>5679</th>\n",
       "      <td>YTLN4400</td>\n",
       "      <td>INITIAL</td>\n",
       "      <td>11.0</td>\n",
       "      <td>11.0</td>\n",
       "      <td>97164,97033,G0283,97014,97110,97112,97116,9714...</td>\n",
       "      <td>[1, 10, 10, 10, 10, 10, 10, 10, 10, 10]</td>\n",
       "      <td>[1, 4, 1, 1, 8, 6, 4, 6, 6, 1]</td>\n",
       "      <td>[1, 10, 10, 10, 10, 10, 10, 10, 10, 10]</td>\n",
       "      <td>APPROVED</td>\n",
       "      <td>M54.2</td>\n",
       "      <td>[M47.812]</td>\n",
       "      <td>Cervicalgia</td>\n",
       "      <td>[Spondylosis without myelopathy or radiculopat...</td>\n",
       "      <td>False</td>\n",
       "    </tr>\n",
       "    <tr>\n",
       "      <th>5680</th>\n",
       "      <td>YTOH1760</td>\n",
       "      <td>INITIAL</td>\n",
       "      <td>1.0</td>\n",
       "      <td>0.0</td>\n",
       "      <td>97139</td>\n",
       "      <td>[1]</td>\n",
       "      <td>[1]</td>\n",
       "      <td>[null]</td>\n",
       "      <td>DENIED</td>\n",
       "      <td>M79.642</td>\n",
       "      <td>[]</td>\n",
       "      <td>Pain in left hand</td>\n",
       "      <td>[]</td>\n",
       "      <td>False</td>\n",
       "    </tr>\n",
       "    <tr>\n",
       "      <th>5681</th>\n",
       "      <td>ZZRP4698</td>\n",
       "      <td>CONTINUATION</td>\n",
       "      <td>75.0</td>\n",
       "      <td>0.0</td>\n",
       "      <td>97110,97112,97140,97530,97012</td>\n",
       "      <td>[15, 15, 15, 15, 15]</td>\n",
       "      <td>[8, 6, 6, 6, 1]</td>\n",
       "      <td>[0, 0, 0, 0, 0]</td>\n",
       "      <td>DENIED</td>\n",
       "      <td>M54.2</td>\n",
       "      <td>[M25.69, R53.1, M25.552, R26.2]</td>\n",
       "      <td>Cervicalgia</td>\n",
       "      <td>[Stiffness of other specified joint, not elsew...</td>\n",
       "      <td>False</td>\n",
       "    </tr>\n",
       "  </tbody>\n",
       "</table>\n",
       "<p>5682 rows × 14 columns</p>\n",
       "</div>"
      ]
     },
     "execution_count": 449,
     "metadata": {},
     "output_type": "execute_result"
    }
   ],
   "execution_count": 449
  },
  {
   "metadata": {
    "ExecuteTime": {
     "end_time": "2024-11-18T18:35:49.215675Z",
     "start_time": "2024-11-18T18:35:49.210572Z"
    }
   },
   "cell_type": "code",
   "source": "df.info()",
   "id": "d1913ea7e1b02a33",
   "outputs": [
    {
     "name": "stdout",
     "output_type": "stream",
     "text": [
      "<class 'pandas.core.frame.DataFrame'>\n",
      "RangeIndex: 5682 entries, 0 to 5681\n",
      "Data columns (total 14 columns):\n",
      " #   Column                        Non-Null Count  Dtype  \n",
      "---  ------                        --------------  -----  \n",
      " 0   cohereid                      5682 non-null   object \n",
      " 1   requesttype                   5682 non-null   object \n",
      " 2   units                         5682 non-null   float64\n",
      " 3   approvedunits                 5507 non-null   float64\n",
      " 4   procedurecode                 5682 non-null   object \n",
      " 5   procedurecodes_units          5682 non-null   object \n",
      " 6   procedurecodes_maxunits       5682 non-null   object \n",
      " 7   procedurecodes_approvedunits  5682 non-null   object \n",
      " 8   authstatus                    5682 non-null   object \n",
      " 9   primarydiagnosis_code         5682 non-null   object \n",
      " 10  diagnosiscodes_code           5682 non-null   object \n",
      " 11  primarydiagnosis_description  5675 non-null   object \n",
      " 12  diagnosiscodes_description    5682 non-null   object \n",
      " 13  cardio_diagnosiscode_flag     5682 non-null   bool   \n",
      "dtypes: bool(1), float64(2), object(11)\n",
      "memory usage: 582.8+ KB\n"
     ]
    }
   ],
   "execution_count": 450
  },
  {
   "metadata": {
    "ExecuteTime": {
     "end_time": "2024-11-18T18:35:49.296415Z",
     "start_time": "2024-11-18T18:35:49.283410Z"
    }
   },
   "cell_type": "code",
   "source": [
    "procedures = df.procedurecode.to_numpy().flatten()\n",
    "procedures = \", \".join(procedures)\n",
    "procedures = procedures.split(',')\n",
    "\n",
    "procs = []\n",
    "for i in procedures:\n",
    "    i = i.strip()\n",
    "    procs += [i]\n",
    "\n",
    "proceduredf = pd.Series(data=procs).drop_duplicates().reset_index(drop=True)\n",
    "proceduredf.name = 'procedure_code'\n",
    "\n",
    "proceduredf.sort_values().reset_index(drop=True)"
   ],
   "id": "154bcd3d643e1af8",
   "outputs": [
    {
     "data": {
      "text/plain": [
       "0      0087U\n",
       "1      0101T\n",
       "2      0791T\n",
       "3      20560\n",
       "4      20561\n",
       "       ...  \n",
       "111    L3763\n",
       "112    L3765\n",
       "113    L3904\n",
       "114    L4631\n",
       "115    S9123\n",
       "Name: procedure_code, Length: 116, dtype: object"
      ]
     },
     "execution_count": 451,
     "metadata": {},
     "output_type": "execute_result"
    }
   ],
   "execution_count": 451
  },
  {
   "metadata": {
    "ExecuteTime": {
     "end_time": "2024-11-18T18:35:49.342688Z",
     "start_time": "2024-11-18T18:35:49.340168Z"
    }
   },
   "cell_type": "code",
   "source": [
    "def unpack(df, col):\n",
    "    df = df.copy(deep=True)\n",
    "    codes = df[col].str.replace(r'[\\[\\]]', '', regex=True)\n",
    "    codes = codes.str.split(',').apply(lambda x: [item.strip() for item in x])\n",
    "    codes = codes.apply(lambda x: [i for i in x if i not in [None, '', np.nan]])\n",
    "\n",
    "    df[col] = codes\n",
    "    return df"
   ],
   "id": "4a896f0c266285e3",
   "outputs": [],
   "execution_count": 452
  },
  {
   "metadata": {
    "ExecuteTime": {
     "end_time": "2024-11-18T18:35:49.411027Z",
     "start_time": "2024-11-18T18:35:49.389992Z"
    }
   },
   "cell_type": "code",
   "source": [
    "# Unpack diagnosis code list.\n",
    "df['diagnosiscodes_code'] = df.diagnosiscodes_code + ', ' + df.primarydiagnosis_code\n",
    "df = unpack(df, 'diagnosiscodes_code')\n",
    "df = df.rename(columns={'diagnosiscodes_code': 'diagnosiscodes'})\n",
    "\n",
    "# Unpack and clean up procedurecode list.\n",
    "df = unpack(df, 'procedurecode')"
   ],
   "id": "dd2817f7dc747a45",
   "outputs": [],
   "execution_count": 453
  },
  {
   "metadata": {
    "ExecuteTime": {
     "end_time": "2024-11-18T18:35:49.424637Z",
     "start_time": "2024-11-18T18:35:49.419732Z"
    }
   },
   "cell_type": "code",
   "source": "df.head(3)",
   "id": "8d3da8355d89adcb",
   "outputs": [
    {
     "data": {
      "text/plain": [
       "   cohereid requesttype  units  approvedunits                 procedurecode  \\\n",
       "0  TDIV2272     INITIAL    8.0            8.0  [97110, 97116, 97140, 97039]   \n",
       "1  ZTET7281     INITIAL    9.0            9.0  [97164, G0283, 97110, 97530]   \n",
       "2  NVRQ1729     INITIAL    8.0            8.0  [97110, 97140, 97530, G0283]   \n",
       "\n",
       "  procedurecodes_units procedurecodes_maxunits procedurecodes_approvedunits  \\\n",
       "0         [8, 8, 8, 8]            [8, 4, 6, 1]                 [8, 8, 8, 8]   \n",
       "1         [1, 8, 8, 8]            [1, 1, 8, 6]                 [1, 8, 8, 8]   \n",
       "2         [8, 8, 8, 8]            [8, 6, 6, 1]                 [8, 8, 8, 8]   \n",
       "\n",
       "  authstatus primarydiagnosis_code      diagnosiscodes  \\\n",
       "0   APPROVED                 M54.2             [M54.2]   \n",
       "1   APPROVED               M25.512           [M25.512]   \n",
       "2   APPROVED               M25.521  [M25.531, M25.521]   \n",
       "\n",
       "  primarydiagnosis_description diagnosiscodes_description  \\\n",
       "0                  Cervicalgia                         []   \n",
       "1        Pain in left shoulder                         []   \n",
       "2          Pain in right elbow      [Pain in right wrist]   \n",
       "\n",
       "   cardio_diagnosiscode_flag  \n",
       "0                      False  \n",
       "1                      False  \n",
       "2                      False  "
      ],
      "text/html": [
       "<div>\n",
       "<style scoped>\n",
       "    .dataframe tbody tr th:only-of-type {\n",
       "        vertical-align: middle;\n",
       "    }\n",
       "\n",
       "    .dataframe tbody tr th {\n",
       "        vertical-align: top;\n",
       "    }\n",
       "\n",
       "    .dataframe thead th {\n",
       "        text-align: right;\n",
       "    }\n",
       "</style>\n",
       "<table border=\"1\" class=\"dataframe\">\n",
       "  <thead>\n",
       "    <tr style=\"text-align: right;\">\n",
       "      <th></th>\n",
       "      <th>cohereid</th>\n",
       "      <th>requesttype</th>\n",
       "      <th>units</th>\n",
       "      <th>approvedunits</th>\n",
       "      <th>procedurecode</th>\n",
       "      <th>procedurecodes_units</th>\n",
       "      <th>procedurecodes_maxunits</th>\n",
       "      <th>procedurecodes_approvedunits</th>\n",
       "      <th>authstatus</th>\n",
       "      <th>primarydiagnosis_code</th>\n",
       "      <th>diagnosiscodes</th>\n",
       "      <th>primarydiagnosis_description</th>\n",
       "      <th>diagnosiscodes_description</th>\n",
       "      <th>cardio_diagnosiscode_flag</th>\n",
       "    </tr>\n",
       "  </thead>\n",
       "  <tbody>\n",
       "    <tr>\n",
       "      <th>0</th>\n",
       "      <td>TDIV2272</td>\n",
       "      <td>INITIAL</td>\n",
       "      <td>8.0</td>\n",
       "      <td>8.0</td>\n",
       "      <td>[97110, 97116, 97140, 97039]</td>\n",
       "      <td>[8, 8, 8, 8]</td>\n",
       "      <td>[8, 4, 6, 1]</td>\n",
       "      <td>[8, 8, 8, 8]</td>\n",
       "      <td>APPROVED</td>\n",
       "      <td>M54.2</td>\n",
       "      <td>[M54.2]</td>\n",
       "      <td>Cervicalgia</td>\n",
       "      <td>[]</td>\n",
       "      <td>False</td>\n",
       "    </tr>\n",
       "    <tr>\n",
       "      <th>1</th>\n",
       "      <td>ZTET7281</td>\n",
       "      <td>INITIAL</td>\n",
       "      <td>9.0</td>\n",
       "      <td>9.0</td>\n",
       "      <td>[97164, G0283, 97110, 97530]</td>\n",
       "      <td>[1, 8, 8, 8]</td>\n",
       "      <td>[1, 1, 8, 6]</td>\n",
       "      <td>[1, 8, 8, 8]</td>\n",
       "      <td>APPROVED</td>\n",
       "      <td>M25.512</td>\n",
       "      <td>[M25.512]</td>\n",
       "      <td>Pain in left shoulder</td>\n",
       "      <td>[]</td>\n",
       "      <td>False</td>\n",
       "    </tr>\n",
       "    <tr>\n",
       "      <th>2</th>\n",
       "      <td>NVRQ1729</td>\n",
       "      <td>INITIAL</td>\n",
       "      <td>8.0</td>\n",
       "      <td>8.0</td>\n",
       "      <td>[97110, 97140, 97530, G0283]</td>\n",
       "      <td>[8, 8, 8, 8]</td>\n",
       "      <td>[8, 6, 6, 1]</td>\n",
       "      <td>[8, 8, 8, 8]</td>\n",
       "      <td>APPROVED</td>\n",
       "      <td>M25.521</td>\n",
       "      <td>[M25.531, M25.521]</td>\n",
       "      <td>Pain in right elbow</td>\n",
       "      <td>[Pain in right wrist]</td>\n",
       "      <td>False</td>\n",
       "    </tr>\n",
       "  </tbody>\n",
       "</table>\n",
       "</div>"
      ]
     },
     "execution_count": 454,
     "metadata": {},
     "output_type": "execute_result"
    }
   ],
   "execution_count": 454
  },
  {
   "metadata": {},
   "cell_type": "markdown",
   "source": [
    "## Diagnosis Code mapping\n",
    "---"
   ],
   "id": "2598d13e62ac0b7d"
  },
  {
   "metadata": {
    "ExecuteTime": {
     "end_time": "2024-11-18T18:35:49.454521Z",
     "start_time": "2024-11-18T18:35:49.446806Z"
    }
   },
   "cell_type": "code",
   "source": [
    "# https://docs.google.com/spreadsheets/d/1Rn-p00gCHEnjhtf4Kqard6WQJt6a6MNLt_cnUa0HjDw/edit?usp=sharing\n",
    "# MCG guideline extract of \"Visits per Episode\" tables.\n",
    "mcg = pd.read_csv('../data/mcg.csv')\n",
    "mcg.sample(2)"
   ],
   "id": "4ea05b6f3037ac5c",
   "outputs": [
    {
     "data": {
      "text/plain": [
       "     Procedure Code Guideline Code Product Type  \\\n",
       "260         97164.0         A-0363      AC  ACG   \n",
       "664         97014.0         A-0529      AC  ACG   \n",
       "\n",
       "                                                 Title ICD-10-CM Code  \\\n",
       "260                          Neurologic Rehabilitation        R29.818   \n",
       "664  Lower Extremity Soft Tissue Dysfunction Rehabi...        M25.472   \n",
       "\n",
       "                                 Diagnosis Description One Visit Episode %  \\\n",
       "260  Other symptoms and signs involving the nervous...               7.54%   \n",
       "664                               Effusion, left ankle              14.81%   \n",
       "\n",
       "     Mean *  25th %ile *  50th %ile (Median) *  75th %ile *  \\\n",
       "260    22.3            8                    19           33   \n",
       "664    13.1            5                     9           18   \n",
       "\n",
       "    Episode > 1 Year % *  \n",
       "260               21.67%  \n",
       "664                   2%  "
      ],
      "text/html": [
       "<div>\n",
       "<style scoped>\n",
       "    .dataframe tbody tr th:only-of-type {\n",
       "        vertical-align: middle;\n",
       "    }\n",
       "\n",
       "    .dataframe tbody tr th {\n",
       "        vertical-align: top;\n",
       "    }\n",
       "\n",
       "    .dataframe thead th {\n",
       "        text-align: right;\n",
       "    }\n",
       "</style>\n",
       "<table border=\"1\" class=\"dataframe\">\n",
       "  <thead>\n",
       "    <tr style=\"text-align: right;\">\n",
       "      <th></th>\n",
       "      <th>Procedure Code</th>\n",
       "      <th>Guideline Code</th>\n",
       "      <th>Product</th>\n",
       "      <th>Type</th>\n",
       "      <th>Title</th>\n",
       "      <th>ICD-10-CM Code</th>\n",
       "      <th>Diagnosis Description</th>\n",
       "      <th>One Visit Episode %</th>\n",
       "      <th>Mean *</th>\n",
       "      <th>25th %ile *</th>\n",
       "      <th>50th %ile (Median) *</th>\n",
       "      <th>75th %ile *</th>\n",
       "      <th>Episode &gt; 1 Year % *</th>\n",
       "    </tr>\n",
       "  </thead>\n",
       "  <tbody>\n",
       "    <tr>\n",
       "      <th>260</th>\n",
       "      <td>97164.0</td>\n",
       "      <td>A-0363</td>\n",
       "      <td>AC</td>\n",
       "      <td>ACG</td>\n",
       "      <td>Neurologic Rehabilitation</td>\n",
       "      <td>R29.818</td>\n",
       "      <td>Other symptoms and signs involving the nervous...</td>\n",
       "      <td>7.54%</td>\n",
       "      <td>22.3</td>\n",
       "      <td>8</td>\n",
       "      <td>19</td>\n",
       "      <td>33</td>\n",
       "      <td>21.67%</td>\n",
       "    </tr>\n",
       "    <tr>\n",
       "      <th>664</th>\n",
       "      <td>97014.0</td>\n",
       "      <td>A-0529</td>\n",
       "      <td>AC</td>\n",
       "      <td>ACG</td>\n",
       "      <td>Lower Extremity Soft Tissue Dysfunction Rehabi...</td>\n",
       "      <td>M25.472</td>\n",
       "      <td>Effusion, left ankle</td>\n",
       "      <td>14.81%</td>\n",
       "      <td>13.1</td>\n",
       "      <td>5</td>\n",
       "      <td>9</td>\n",
       "      <td>18</td>\n",
       "      <td>2%</td>\n",
       "    </tr>\n",
       "  </tbody>\n",
       "</table>\n",
       "</div>"
      ]
     },
     "execution_count": 455,
     "metadata": {},
     "output_type": "execute_result"
    }
   ],
   "execution_count": 455
  },
  {
   "metadata": {
    "ExecuteTime": {
     "end_time": "2024-11-18T18:46:11.710415Z",
     "start_time": "2024-11-18T18:46:11.705082Z"
    }
   },
   "cell_type": "code",
   "source": [
    "mc = mcg[['ICD-10-CM Code', 'Diagnosis Description', 'One Visit Episode %',\n",
    "          'Mean *', '25th %ile *', '50th %ile (Median) *', '75th %ile *',\n",
    "          'Episode > 1 Year % *']].drop_duplicates()"
   ],
   "id": "513ad813a53ac7d7",
   "outputs": [
    {
     "data": {
      "text/plain": [
       "      Procedure Code Guideline Code Product Type  \\\n",
       "257          97164.0         A-0363      AC  ACG   \n",
       "970          97110.0         A-0363      AC  ACG   \n",
       "1914             NaN         A-0561      AC  ACG   \n",
       "\n",
       "                                                Title ICD-10-CM Code  \\\n",
       "257                         Neurologic Rehabilitation          R27.9   \n",
       "970                         Neurologic Rehabilitation          R27.9   \n",
       "1914  Developmental Language Disorders Rehabilitation          R27.9   \n",
       "\n",
       "                 Diagnosis Description One Visit Episode %  Mean *  \\\n",
       "257   Unspecified lack of coordination               9.55%    21.7   \n",
       "970   Unspecified lack of coordination               9.55%    21.7   \n",
       "1914  Unspecified lack of coordination              22.50%    16.6   \n",
       "\n",
       "      25th %ile *  50th %ile (Median) *  75th %ile * Episode > 1 Year % *  \n",
       "257             7                    17           32               22.62%  \n",
       "970             7                    17           32                  23%  \n",
       "1914            4                    11           29                  17%  "
      ],
      "text/html": [
       "<div>\n",
       "<style scoped>\n",
       "    .dataframe tbody tr th:only-of-type {\n",
       "        vertical-align: middle;\n",
       "    }\n",
       "\n",
       "    .dataframe tbody tr th {\n",
       "        vertical-align: top;\n",
       "    }\n",
       "\n",
       "    .dataframe thead th {\n",
       "        text-align: right;\n",
       "    }\n",
       "</style>\n",
       "<table border=\"1\" class=\"dataframe\">\n",
       "  <thead>\n",
       "    <tr style=\"text-align: right;\">\n",
       "      <th></th>\n",
       "      <th>Procedure Code</th>\n",
       "      <th>Guideline Code</th>\n",
       "      <th>Product</th>\n",
       "      <th>Type</th>\n",
       "      <th>Title</th>\n",
       "      <th>ICD-10-CM Code</th>\n",
       "      <th>Diagnosis Description</th>\n",
       "      <th>One Visit Episode %</th>\n",
       "      <th>Mean *</th>\n",
       "      <th>25th %ile *</th>\n",
       "      <th>50th %ile (Median) *</th>\n",
       "      <th>75th %ile *</th>\n",
       "      <th>Episode &gt; 1 Year % *</th>\n",
       "    </tr>\n",
       "  </thead>\n",
       "  <tbody>\n",
       "    <tr>\n",
       "      <th>257</th>\n",
       "      <td>97164.0</td>\n",
       "      <td>A-0363</td>\n",
       "      <td>AC</td>\n",
       "      <td>ACG</td>\n",
       "      <td>Neurologic Rehabilitation</td>\n",
       "      <td>R27.9</td>\n",
       "      <td>Unspecified lack of coordination</td>\n",
       "      <td>9.55%</td>\n",
       "      <td>21.7</td>\n",
       "      <td>7</td>\n",
       "      <td>17</td>\n",
       "      <td>32</td>\n",
       "      <td>22.62%</td>\n",
       "    </tr>\n",
       "    <tr>\n",
       "      <th>970</th>\n",
       "      <td>97110.0</td>\n",
       "      <td>A-0363</td>\n",
       "      <td>AC</td>\n",
       "      <td>ACG</td>\n",
       "      <td>Neurologic Rehabilitation</td>\n",
       "      <td>R27.9</td>\n",
       "      <td>Unspecified lack of coordination</td>\n",
       "      <td>9.55%</td>\n",
       "      <td>21.7</td>\n",
       "      <td>7</td>\n",
       "      <td>17</td>\n",
       "      <td>32</td>\n",
       "      <td>23%</td>\n",
       "    </tr>\n",
       "    <tr>\n",
       "      <th>1914</th>\n",
       "      <td>NaN</td>\n",
       "      <td>A-0561</td>\n",
       "      <td>AC</td>\n",
       "      <td>ACG</td>\n",
       "      <td>Developmental Language Disorders Rehabilitation</td>\n",
       "      <td>R27.9</td>\n",
       "      <td>Unspecified lack of coordination</td>\n",
       "      <td>22.50%</td>\n",
       "      <td>16.6</td>\n",
       "      <td>4</td>\n",
       "      <td>11</td>\n",
       "      <td>29</td>\n",
       "      <td>17%</td>\n",
       "    </tr>\n",
       "  </tbody>\n",
       "</table>\n",
       "</div>"
      ]
     },
     "execution_count": 479,
     "metadata": {},
     "output_type": "execute_result"
    }
   ],
   "execution_count": 479
  },
  {
   "metadata": {
    "ExecuteTime": {
     "end_time": "2024-11-18T18:54:42.173471Z",
     "start_time": "2024-11-18T18:54:42.169648Z"
    }
   },
   "cell_type": "code",
   "source": [
    "mc = (mc.sort_values(\n",
    "    by=['ICD-10-CM Code', '50th %ile (Median) *'])\n",
    "      .drop_duplicates(subset=['ICD-10-CM Code'], keep='last')\n",
    "      .reset_index(drop=True)\n",
    "      )"
   ],
   "id": "a30a3884bf5052dc",
   "outputs": [],
   "execution_count": 484
  },
  {
   "metadata": {
    "ExecuteTime": {
     "end_time": "2024-11-18T18:35:49.486930Z",
     "start_time": "2024-11-18T18:35:49.484190Z"
    }
   },
   "cell_type": "code",
   "source": "icdlist = mcg['ICD-10-CM Code'].drop_duplicates().sort_values().reset_index(drop=True).tolist()",
   "id": "ab80945643698951",
   "outputs": [],
   "execution_count": 456
  },
  {
   "metadata": {
    "ExecuteTime": {
     "end_time": "2024-11-18T18:35:49.511771Z",
     "start_time": "2024-11-18T18:35:49.509365Z"
    }
   },
   "cell_type": "code",
   "source": "df.diagnosiscodes.head(3)",
   "id": "e3f5eb7e8b6db4df",
   "outputs": [
    {
     "data": {
      "text/plain": [
       "0               [M54.2]\n",
       "1             [M25.512]\n",
       "2    [M25.531, M25.521]\n",
       "Name: diagnosiscodes, dtype: object"
      ]
     },
     "execution_count": 457,
     "metadata": {},
     "output_type": "execute_result"
    }
   ],
   "execution_count": 457
  },
  {
   "metadata": {
    "ExecuteTime": {
     "end_time": "2024-11-18T18:35:49.568413Z",
     "start_time": "2024-11-18T18:35:49.548836Z"
    }
   },
   "cell_type": "code",
   "source": [
    "# Fraction of cases where at least one ICD code in our MCG list.\n",
    "mask = df.diagnosiscodes.apply(lambda x: any(item in icdlist for item in x))\n",
    "mask.sum() / len(mask)"
   ],
   "id": "1100b5da1658f8e7",
   "outputs": [
    {
     "data": {
      "text/plain": [
       "0.8988032382963745"
      ]
     },
     "execution_count": 458,
     "metadata": {},
     "output_type": "execute_result"
    }
   ],
   "execution_count": 458
  },
  {
   "metadata": {
    "ExecuteTime": {
     "end_time": "2024-11-18T18:35:49.598699Z",
     "start_time": "2024-11-18T18:35:49.596006Z"
    }
   },
   "cell_type": "code",
   "source": [
    "# Fraction of cases with Null ICD.\n",
    "nulls = df.diagnosiscodes.apply(lambda x: len(x) == 0)\n",
    "nulls.sum() / len(nulls)"
   ],
   "id": "d7a2a1b987594c7c",
   "outputs": [
    {
     "data": {
      "text/plain": [
       "0.0"
      ]
     },
     "execution_count": 459,
     "metadata": {},
     "output_type": "execute_result"
    }
   ],
   "execution_count": 459
  },
  {
   "metadata": {
    "ExecuteTime": {
     "end_time": "2024-11-18T18:35:49.605860Z",
     "start_time": "2024-11-18T18:35:49.603899Z"
    }
   },
   "cell_type": "code",
   "source": [
    "# Unmapped fraction.\n",
    "1 - nulls.sum() / len(nulls) - mask.sum() / len(mask)"
   ],
   "id": "e90d8aca8a36a65c",
   "outputs": [
    {
     "data": {
      "text/plain": [
       "0.10119676170362546"
      ]
     },
     "execution_count": 460,
     "metadata": {},
     "output_type": "execute_result"
    }
   ],
   "execution_count": 460
  },
  {
   "metadata": {},
   "cell_type": "markdown",
   "source": "### Join and calculate Delta.",
   "id": "db636ace002e433f"
  },
  {
   "metadata": {
    "ExecuteTime": {
     "end_time": "2024-11-18T19:14:22.601827Z",
     "start_time": "2024-11-18T19:14:22.594691Z"
    }
   },
   "cell_type": "code",
   "source": [
    "mclist = mc[['ICD-10-CM Code','50th %ile (Median) *']]\n",
    "mclist.sample(3)"
   ],
   "id": "94cad169bdb81154",
   "outputs": [
    {
     "data": {
      "text/plain": [
       "     ICD-10-CM Code  50th %ile (Median) *\n",
       "1001        Z96.651                    17\n",
       "571          N81.10                     5\n",
       "307         M47.816                     7"
      ],
      "text/html": [
       "<div>\n",
       "<style scoped>\n",
       "    .dataframe tbody tr th:only-of-type {\n",
       "        vertical-align: middle;\n",
       "    }\n",
       "\n",
       "    .dataframe tbody tr th {\n",
       "        vertical-align: top;\n",
       "    }\n",
       "\n",
       "    .dataframe thead th {\n",
       "        text-align: right;\n",
       "    }\n",
       "</style>\n",
       "<table border=\"1\" class=\"dataframe\">\n",
       "  <thead>\n",
       "    <tr style=\"text-align: right;\">\n",
       "      <th></th>\n",
       "      <th>ICD-10-CM Code</th>\n",
       "      <th>50th %ile (Median) *</th>\n",
       "    </tr>\n",
       "  </thead>\n",
       "  <tbody>\n",
       "    <tr>\n",
       "      <th>1001</th>\n",
       "      <td>Z96.651</td>\n",
       "      <td>17</td>\n",
       "    </tr>\n",
       "    <tr>\n",
       "      <th>571</th>\n",
       "      <td>N81.10</td>\n",
       "      <td>5</td>\n",
       "    </tr>\n",
       "    <tr>\n",
       "      <th>307</th>\n",
       "      <td>M47.816</td>\n",
       "      <td>7</td>\n",
       "    </tr>\n",
       "  </tbody>\n",
       "</table>\n",
       "</div>"
      ]
     },
     "execution_count": 500,
     "metadata": {},
     "output_type": "execute_result"
    }
   ],
   "execution_count": 500
  },
  {
   "metadata": {
    "ExecuteTime": {
     "end_time": "2024-11-18T19:15:44.025075Z",
     "start_time": "2024-11-18T19:15:42.444131Z"
    }
   },
   "cell_type": "code",
   "source": [
    "df['mcg_units'] = 0\n",
    "for index, row in df.iterrows():\n",
    "    units = 0\n",
    "    for code in row.diagnosiscodes:\n",
    "        unit = mclist.loc[mclist['ICD-10-CM Code'] == code, '50th %ile (Median) *']\n",
    "        if not unit.empty:\n",
    "            units = max(units, unit.iloc[0])\n",
    "\n",
    "    df.loc[index, 'mcg_units'] = units"
   ],
   "id": "36b25174985bf2bd",
   "outputs": [],
   "execution_count": 503
  },
  {
   "metadata": {
    "ExecuteTime": {
     "end_time": "2024-11-18T20:44:02.720282Z",
     "start_time": "2024-11-18T20:44:02.702183Z"
    }
   },
   "cell_type": "code",
   "source": "deltadf = df[(df.mcg_units != 0) & (df['approvedunits']>0)]",
   "id": "f1e004dad4f77495",
   "outputs": [],
   "execution_count": 516
  },
  {
   "metadata": {
    "ExecuteTime": {
     "end_time": "2024-11-18T20:44:03.854217Z",
     "start_time": "2024-11-18T20:44:03.851050Z"
    }
   },
   "cell_type": "code",
   "source": [
    "# No. of cases with more approved units than 50% percentile MCG data.\n",
    "sum(deltadf['approvedunits'] > deltadf['mcg_units'])"
   ],
   "id": "c109665d95f85712",
   "outputs": [
    {
     "data": {
      "text/plain": [
       "2079"
      ]
     },
     "execution_count": 517,
     "metadata": {},
     "output_type": "execute_result"
    }
   ],
   "execution_count": 517
  },
  {
   "metadata": {
    "ExecuteTime": {
     "end_time": "2024-11-18T20:44:08.771666Z",
     "start_time": "2024-11-18T20:44:08.762109Z"
    }
   },
   "cell_type": "code",
   "source": "deltadf",
   "id": "d1a97301b5f6f799",
   "outputs": [
    {
     "data": {
      "text/plain": [
       "      cohereid   requesttype  units  approvedunits  \\\n",
       "0     TDIV2272       INITIAL    8.0            8.0   \n",
       "1     ZTET7281       INITIAL    9.0            9.0   \n",
       "2     NVRQ1729       INITIAL    8.0            8.0   \n",
       "3     JELR1259       INITIAL    8.0            8.0   \n",
       "4     MOGC4535       INITIAL   11.0           11.0   \n",
       "...        ...           ...    ...            ...   \n",
       "5672  HCNC1723       INITIAL   13.0            9.0   \n",
       "5674  IFUE2837       INITIAL   10.0           10.0   \n",
       "5675  IVPL5203       INITIAL   13.0           13.0   \n",
       "5678  WFCY6253  CONTINUATION   12.0           12.0   \n",
       "5679  YTLN4400       INITIAL   11.0           11.0   \n",
       "\n",
       "                                          procedurecode  \\\n",
       "0                          [97110, 97116, 97140, 97039]   \n",
       "1                          [97164, G0283, 97110, 97530]   \n",
       "2                          [97110, 97140, 97530, G0283]   \n",
       "3            [97012, 97035, G0283, 97110, 97112, 97140]   \n",
       "4                   [97164, G0283, 97110, 97140, 97530]   \n",
       "...                                                 ...   \n",
       "5672  [97164, 97012, 97014, 97110, 97112, 97116, 971...   \n",
       "5674                       [97035, G0283, 97110, 97140]   \n",
       "5675  [97164, 97012, 97110, 97112, 97116, 97140, 975...   \n",
       "5678  [97024, 97760, 97763, G0283, 97110, 97112, 971...   \n",
       "5679  [97164, 97033, G0283, 97014, 97110, 97112, 971...   \n",
       "\n",
       "                         procedurecodes_units         procedurecodes_maxunits  \\\n",
       "0                                [8, 8, 8, 8]                    [8, 4, 6, 1]   \n",
       "1                                [1, 8, 8, 8]                    [1, 1, 8, 6]   \n",
       "2                                [8, 8, 8, 8]                    [8, 6, 6, 1]   \n",
       "3                          [8, 8, 8, 8, 8, 8]              [1, 2, 1, 8, 6, 6]   \n",
       "4                         [1, 10, 10, 10, 10]                 [1, 1, 8, 6, 6]   \n",
       "...                                       ...                             ...   \n",
       "5672      [1, 12, 12, 12, 12, 12, 12, 12, 12]     [1, 1, 1, 8, 6, 4, 6, 6, 2]   \n",
       "5674                         [10, 10, 10, 10]                    [2, 1, 8, 6]   \n",
       "5675      [1, 12, 12, 12, 12, 12, 12, 12, 12]     [1, 1, 8, 6, 4, 6, 6, 2, 1]   \n",
       "5678         [12, 12, 12, 12, 12, 12, 12, 12]        [1, 6, 6, 1, 8, 6, 6, 6]   \n",
       "5679  [1, 10, 10, 10, 10, 10, 10, 10, 10, 10]  [1, 4, 1, 1, 8, 6, 4, 6, 6, 1]   \n",
       "\n",
       "                 procedurecodes_approvedunits          authstatus  \\\n",
       "0                                [8, 8, 8, 8]            APPROVED   \n",
       "1                                [1, 8, 8, 8]            APPROVED   \n",
       "2                                [8, 8, 8, 8]            APPROVED   \n",
       "3                          [8, 8, 8, 8, 8, 8]            APPROVED   \n",
       "4                         [1, 10, 10, 10, 10]            APPROVED   \n",
       "...                                       ...                 ...   \n",
       "5672              [1, 0, 8, 8, 8, 8, 8, 8, 0]  PARTIALLY_APPROVED   \n",
       "5674                         [10, 10, 10, 10]            APPROVED   \n",
       "5675      [1, 12, 12, 12, 12, 12, 12, 12, 12]            APPROVED   \n",
       "5678         [12, 12, 12, 12, 12, 12, 12, 12]            APPROVED   \n",
       "5679  [1, 10, 10, 10, 10, 10, 10, 10, 10, 10]            APPROVED   \n",
       "\n",
       "     primarydiagnosis_code            diagnosiscodes  \\\n",
       "0                    M54.2                   [M54.2]   \n",
       "1                  M25.512                 [M25.512]   \n",
       "2                  M25.521        [M25.531, M25.521]   \n",
       "3                   M54.16  [M51.36, M54.50, M54.16]   \n",
       "4                   M17.12  [Z96.652, R26.9, M17.12]   \n",
       "...                    ...                       ...   \n",
       "5672                 R53.1           [R26.81, R53.1]   \n",
       "5674                 M54.2           [M54.12, M54.2]   \n",
       "5675                 R53.1            [R26.2, R53.1]   \n",
       "5678                M62.89         [M24.542, M62.89]   \n",
       "5679                 M54.2          [M47.812, M54.2]   \n",
       "\n",
       "                      primarydiagnosis_description  \\\n",
       "0                                      Cervicalgia   \n",
       "1                            Pain in left shoulder   \n",
       "2                              Pain in right elbow   \n",
       "3                     Radiculopathy, lumbar region   \n",
       "4     Unilateral primary osteoarthritis, left knee   \n",
       "...                                            ...   \n",
       "5672                                      Weakness   \n",
       "5674                                   Cervicalgia   \n",
       "5675                                      Weakness   \n",
       "5678           Other specified disorders of muscle   \n",
       "5679                                   Cervicalgia   \n",
       "\n",
       "                             diagnosiscodes_description  \\\n",
       "0                                                    []   \n",
       "1                                                    []   \n",
       "2                                 [Pain in right wrist]   \n",
       "3     [Other intervertebral disc degeneration, lumba...   \n",
       "4     [Presence of left artificial knee joint, Unspe...   \n",
       "...                                                 ...   \n",
       "5672                             [Unsteadiness on feet]   \n",
       "5674                   [Radiculopathy, cervical region]   \n",
       "5675  [Difficulty in walking, not elsewhere classified]   \n",
       "5678                           [Contracture, left hand]   \n",
       "5679  [Spondylosis without myelopathy or radiculopat...   \n",
       "\n",
       "      cardio_diagnosiscode_flag  mcg_units  \n",
       "0                         False          7  \n",
       "1                         False          9  \n",
       "2                         False          8  \n",
       "3                         False         13  \n",
       "4                         False         17  \n",
       "...                         ...        ...  \n",
       "5672                       True          9  \n",
       "5674                      False          7  \n",
       "5675                       True         11  \n",
       "5678                      False          8  \n",
       "5679                      False          7  \n",
       "\n",
       "[4261 rows x 15 columns]"
      ],
      "text/html": [
       "<div>\n",
       "<style scoped>\n",
       "    .dataframe tbody tr th:only-of-type {\n",
       "        vertical-align: middle;\n",
       "    }\n",
       "\n",
       "    .dataframe tbody tr th {\n",
       "        vertical-align: top;\n",
       "    }\n",
       "\n",
       "    .dataframe thead th {\n",
       "        text-align: right;\n",
       "    }\n",
       "</style>\n",
       "<table border=\"1\" class=\"dataframe\">\n",
       "  <thead>\n",
       "    <tr style=\"text-align: right;\">\n",
       "      <th></th>\n",
       "      <th>cohereid</th>\n",
       "      <th>requesttype</th>\n",
       "      <th>units</th>\n",
       "      <th>approvedunits</th>\n",
       "      <th>procedurecode</th>\n",
       "      <th>procedurecodes_units</th>\n",
       "      <th>procedurecodes_maxunits</th>\n",
       "      <th>procedurecodes_approvedunits</th>\n",
       "      <th>authstatus</th>\n",
       "      <th>primarydiagnosis_code</th>\n",
       "      <th>diagnosiscodes</th>\n",
       "      <th>primarydiagnosis_description</th>\n",
       "      <th>diagnosiscodes_description</th>\n",
       "      <th>cardio_diagnosiscode_flag</th>\n",
       "      <th>mcg_units</th>\n",
       "    </tr>\n",
       "  </thead>\n",
       "  <tbody>\n",
       "    <tr>\n",
       "      <th>0</th>\n",
       "      <td>TDIV2272</td>\n",
       "      <td>INITIAL</td>\n",
       "      <td>8.0</td>\n",
       "      <td>8.0</td>\n",
       "      <td>[97110, 97116, 97140, 97039]</td>\n",
       "      <td>[8, 8, 8, 8]</td>\n",
       "      <td>[8, 4, 6, 1]</td>\n",
       "      <td>[8, 8, 8, 8]</td>\n",
       "      <td>APPROVED</td>\n",
       "      <td>M54.2</td>\n",
       "      <td>[M54.2]</td>\n",
       "      <td>Cervicalgia</td>\n",
       "      <td>[]</td>\n",
       "      <td>False</td>\n",
       "      <td>7</td>\n",
       "    </tr>\n",
       "    <tr>\n",
       "      <th>1</th>\n",
       "      <td>ZTET7281</td>\n",
       "      <td>INITIAL</td>\n",
       "      <td>9.0</td>\n",
       "      <td>9.0</td>\n",
       "      <td>[97164, G0283, 97110, 97530]</td>\n",
       "      <td>[1, 8, 8, 8]</td>\n",
       "      <td>[1, 1, 8, 6]</td>\n",
       "      <td>[1, 8, 8, 8]</td>\n",
       "      <td>APPROVED</td>\n",
       "      <td>M25.512</td>\n",
       "      <td>[M25.512]</td>\n",
       "      <td>Pain in left shoulder</td>\n",
       "      <td>[]</td>\n",
       "      <td>False</td>\n",
       "      <td>9</td>\n",
       "    </tr>\n",
       "    <tr>\n",
       "      <th>2</th>\n",
       "      <td>NVRQ1729</td>\n",
       "      <td>INITIAL</td>\n",
       "      <td>8.0</td>\n",
       "      <td>8.0</td>\n",
       "      <td>[97110, 97140, 97530, G0283]</td>\n",
       "      <td>[8, 8, 8, 8]</td>\n",
       "      <td>[8, 6, 6, 1]</td>\n",
       "      <td>[8, 8, 8, 8]</td>\n",
       "      <td>APPROVED</td>\n",
       "      <td>M25.521</td>\n",
       "      <td>[M25.531, M25.521]</td>\n",
       "      <td>Pain in right elbow</td>\n",
       "      <td>[Pain in right wrist]</td>\n",
       "      <td>False</td>\n",
       "      <td>8</td>\n",
       "    </tr>\n",
       "    <tr>\n",
       "      <th>3</th>\n",
       "      <td>JELR1259</td>\n",
       "      <td>INITIAL</td>\n",
       "      <td>8.0</td>\n",
       "      <td>8.0</td>\n",
       "      <td>[97012, 97035, G0283, 97110, 97112, 97140]</td>\n",
       "      <td>[8, 8, 8, 8, 8, 8]</td>\n",
       "      <td>[1, 2, 1, 8, 6, 6]</td>\n",
       "      <td>[8, 8, 8, 8, 8, 8]</td>\n",
       "      <td>APPROVED</td>\n",
       "      <td>M54.16</td>\n",
       "      <td>[M51.36, M54.50, M54.16]</td>\n",
       "      <td>Radiculopathy, lumbar region</td>\n",
       "      <td>[Other intervertebral disc degeneration, lumba...</td>\n",
       "      <td>False</td>\n",
       "      <td>13</td>\n",
       "    </tr>\n",
       "    <tr>\n",
       "      <th>4</th>\n",
       "      <td>MOGC4535</td>\n",
       "      <td>INITIAL</td>\n",
       "      <td>11.0</td>\n",
       "      <td>11.0</td>\n",
       "      <td>[97164, G0283, 97110, 97140, 97530]</td>\n",
       "      <td>[1, 10, 10, 10, 10]</td>\n",
       "      <td>[1, 1, 8, 6, 6]</td>\n",
       "      <td>[1, 10, 10, 10, 10]</td>\n",
       "      <td>APPROVED</td>\n",
       "      <td>M17.12</td>\n",
       "      <td>[Z96.652, R26.9, M17.12]</td>\n",
       "      <td>Unilateral primary osteoarthritis, left knee</td>\n",
       "      <td>[Presence of left artificial knee joint, Unspe...</td>\n",
       "      <td>False</td>\n",
       "      <td>17</td>\n",
       "    </tr>\n",
       "    <tr>\n",
       "      <th>...</th>\n",
       "      <td>...</td>\n",
       "      <td>...</td>\n",
       "      <td>...</td>\n",
       "      <td>...</td>\n",
       "      <td>...</td>\n",
       "      <td>...</td>\n",
       "      <td>...</td>\n",
       "      <td>...</td>\n",
       "      <td>...</td>\n",
       "      <td>...</td>\n",
       "      <td>...</td>\n",
       "      <td>...</td>\n",
       "      <td>...</td>\n",
       "      <td>...</td>\n",
       "      <td>...</td>\n",
       "    </tr>\n",
       "    <tr>\n",
       "      <th>5672</th>\n",
       "      <td>HCNC1723</td>\n",
       "      <td>INITIAL</td>\n",
       "      <td>13.0</td>\n",
       "      <td>9.0</td>\n",
       "      <td>[97164, 97012, 97014, 97110, 97112, 97116, 971...</td>\n",
       "      <td>[1, 12, 12, 12, 12, 12, 12, 12, 12]</td>\n",
       "      <td>[1, 1, 1, 8, 6, 4, 6, 6, 2]</td>\n",
       "      <td>[1, 0, 8, 8, 8, 8, 8, 8, 0]</td>\n",
       "      <td>PARTIALLY_APPROVED</td>\n",
       "      <td>R53.1</td>\n",
       "      <td>[R26.81, R53.1]</td>\n",
       "      <td>Weakness</td>\n",
       "      <td>[Unsteadiness on feet]</td>\n",
       "      <td>True</td>\n",
       "      <td>9</td>\n",
       "    </tr>\n",
       "    <tr>\n",
       "      <th>5674</th>\n",
       "      <td>IFUE2837</td>\n",
       "      <td>INITIAL</td>\n",
       "      <td>10.0</td>\n",
       "      <td>10.0</td>\n",
       "      <td>[97035, G0283, 97110, 97140]</td>\n",
       "      <td>[10, 10, 10, 10]</td>\n",
       "      <td>[2, 1, 8, 6]</td>\n",
       "      <td>[10, 10, 10, 10]</td>\n",
       "      <td>APPROVED</td>\n",
       "      <td>M54.2</td>\n",
       "      <td>[M54.12, M54.2]</td>\n",
       "      <td>Cervicalgia</td>\n",
       "      <td>[Radiculopathy, cervical region]</td>\n",
       "      <td>False</td>\n",
       "      <td>7</td>\n",
       "    </tr>\n",
       "    <tr>\n",
       "      <th>5675</th>\n",
       "      <td>IVPL5203</td>\n",
       "      <td>INITIAL</td>\n",
       "      <td>13.0</td>\n",
       "      <td>13.0</td>\n",
       "      <td>[97164, 97012, 97110, 97112, 97116, 97140, 975...</td>\n",
       "      <td>[1, 12, 12, 12, 12, 12, 12, 12, 12]</td>\n",
       "      <td>[1, 1, 8, 6, 4, 6, 6, 2, 1]</td>\n",
       "      <td>[1, 12, 12, 12, 12, 12, 12, 12, 12]</td>\n",
       "      <td>APPROVED</td>\n",
       "      <td>R53.1</td>\n",
       "      <td>[R26.2, R53.1]</td>\n",
       "      <td>Weakness</td>\n",
       "      <td>[Difficulty in walking, not elsewhere classified]</td>\n",
       "      <td>True</td>\n",
       "      <td>11</td>\n",
       "    </tr>\n",
       "    <tr>\n",
       "      <th>5678</th>\n",
       "      <td>WFCY6253</td>\n",
       "      <td>CONTINUATION</td>\n",
       "      <td>12.0</td>\n",
       "      <td>12.0</td>\n",
       "      <td>[97024, 97760, 97763, G0283, 97110, 97112, 971...</td>\n",
       "      <td>[12, 12, 12, 12, 12, 12, 12, 12]</td>\n",
       "      <td>[1, 6, 6, 1, 8, 6, 6, 6]</td>\n",
       "      <td>[12, 12, 12, 12, 12, 12, 12, 12]</td>\n",
       "      <td>APPROVED</td>\n",
       "      <td>M62.89</td>\n",
       "      <td>[M24.542, M62.89]</td>\n",
       "      <td>Other specified disorders of muscle</td>\n",
       "      <td>[Contracture, left hand]</td>\n",
       "      <td>False</td>\n",
       "      <td>8</td>\n",
       "    </tr>\n",
       "    <tr>\n",
       "      <th>5679</th>\n",
       "      <td>YTLN4400</td>\n",
       "      <td>INITIAL</td>\n",
       "      <td>11.0</td>\n",
       "      <td>11.0</td>\n",
       "      <td>[97164, 97033, G0283, 97014, 97110, 97112, 971...</td>\n",
       "      <td>[1, 10, 10, 10, 10, 10, 10, 10, 10, 10]</td>\n",
       "      <td>[1, 4, 1, 1, 8, 6, 4, 6, 6, 1]</td>\n",
       "      <td>[1, 10, 10, 10, 10, 10, 10, 10, 10, 10]</td>\n",
       "      <td>APPROVED</td>\n",
       "      <td>M54.2</td>\n",
       "      <td>[M47.812, M54.2]</td>\n",
       "      <td>Cervicalgia</td>\n",
       "      <td>[Spondylosis without myelopathy or radiculopat...</td>\n",
       "      <td>False</td>\n",
       "      <td>7</td>\n",
       "    </tr>\n",
       "  </tbody>\n",
       "</table>\n",
       "<p>4261 rows × 15 columns</p>\n",
       "</div>"
      ]
     },
     "execution_count": 518,
     "metadata": {},
     "output_type": "execute_result"
    }
   ],
   "execution_count": 518
  },
  {
   "metadata": {
    "ExecuteTime": {
     "end_time": "2024-11-18T20:44:42.399706Z",
     "start_time": "2024-11-18T20:44:42.396520Z"
    }
   },
   "cell_type": "code",
   "source": "sum(deltadf['approvedunits'] - deltadf['mcg_units'])",
   "id": "d861148fa45c5913",
   "outputs": [
    {
     "data": {
      "text/plain": [
       "16632.0"
      ]
     },
     "execution_count": 520,
     "metadata": {},
     "output_type": "execute_result"
    }
   ],
   "execution_count": 520
  },
  {
   "metadata": {},
   "cell_type": "code",
   "outputs": [],
   "execution_count": null,
   "source": "",
   "id": "42cac7f15bb1da7b"
  },
  {
   "metadata": {},
   "cell_type": "markdown",
   "source": [
    "# Scratchpad\n",
    "---"
   ],
   "id": "971222e3d11c6ad9"
  },
  {
   "metadata": {},
   "cell_type": "markdown",
   "source": [
    "## Read from MCG webpage\n",
    "---"
   ],
   "id": "633a151b5aebb784"
  },
  {
   "metadata": {
    "ExecuteTime": {
     "end_time": "2024-11-18T18:35:49.640391Z",
     "start_time": "2024-11-18T18:35:49.638977Z"
    }
   },
   "cell_type": "code",
   "source": [
    "import requests\n",
    "from bs4 import BeautifulSoup"
   ],
   "id": "c06f1ff026db7f3b",
   "outputs": [],
   "execution_count": 461
  },
  {
   "metadata": {
    "ExecuteTime": {
     "end_time": "2024-11-18T18:35:49.651557Z",
     "start_time": "2024-11-18T18:35:49.649902Z"
    }
   },
   "cell_type": "code",
   "source": [
    "# Create a session object.\n",
    "session = requests.Session()"
   ],
   "id": "fa5b1136d45032c",
   "outputs": [],
   "execution_count": 462
  },
  {
   "metadata": {
    "ExecuteTime": {
     "end_time": "2024-11-18T18:35:51.775941Z",
     "start_time": "2024-11-18T18:35:49.659636Z"
    }
   },
   "cell_type": "code",
   "source": [
    "# Send a request to the webpage\n",
    "login_url = 'https://careweb.careguidelines.com'\n",
    "url = 'https://careweb.careguidelines.com/ed28/index.html'\n",
    "\n",
    "login_page = session.get(login_url)\n",
    "soup = BeautifulSoup(login_page.text, 'html.parser')\n",
    "csrf_token = soup.find('input', {'name': '__RequestVerificationToken'}).get('value')\n",
    "\n",
    "login_data = {\n",
    "    'User ID': 'cohere',\n",
    "    'Password': 'CHMCG2020',\n",
    "    # 'ReturnUrl': '/connect/authorize/callback',  # Replace with the appropriate return URL\n",
    "    # 'ClientId': 'careweb',\n",
    "    # 'UseAdfs': 'False',\n",
    "    '__RequestVerificationToken': csrf_token,\n",
    "}\n",
    "\n",
    "response = session.post(login_url, data=login_data)"
   ],
   "id": "93cae83800a7b89c",
   "outputs": [],
   "execution_count": 463
  },
  {
   "metadata": {
    "ExecuteTime": {
     "end_time": "2024-11-18T18:35:51.803932Z",
     "start_time": "2024-11-18T18:35:51.801716Z"
    }
   },
   "cell_type": "code",
   "source": [
    "if 'Welcome' in response.text:  # Adjust based on what confirms a successful login\n",
    "    print(\"Login successful!\")\n",
    "else:\n",
    "    print(\"Login failed.\")"
   ],
   "id": "e08deb292c6271b9",
   "outputs": [
    {
     "name": "stdout",
     "output_type": "stream",
     "text": [
      "Login failed.\n"
     ]
    }
   ],
   "execution_count": 464
  },
  {
   "metadata": {
    "ExecuteTime": {
     "end_time": "2024-11-18T18:35:51.821288Z",
     "start_time": "2024-11-18T18:35:51.819141Z"
    }
   },
   "cell_type": "code",
   "source": [
    "def html_write(html_doc):\n",
    "    \"\"\"\n",
    "    GET requests output html data.\n",
    "    Write this data into a .html file using BeautifulSoup parsing.\n",
    "    \"\"\"\n",
    "\n",
    "    soup = BeautifulSoup(html_doc, 'html.parser')\n",
    "    title = soup.title.string\n",
    "    print(f\"Protected Page Title: {title}\")\n",
    "\n",
    "    # paragraphs = soup.find_all('p')\n",
    "    # for p in paragraphs:\n",
    "    #     print(p.get_text())\n",
    "\n",
    "    with open('../data/scratch.html', 'w') as file:\n",
    "        file.write(soup.prettify())\n",
    "\n",
    "    print(\"Content has been written.\")"
   ],
   "id": "b731506a31b7e5e7",
   "outputs": [],
   "execution_count": 465
  },
  {
   "metadata": {
    "ExecuteTime": {
     "end_time": "2024-11-18T18:35:52.381813Z",
     "start_time": "2024-11-18T18:35:51.836376Z"
    }
   },
   "cell_type": "code",
   "source": [
    "if response.status_code == 200:\n",
    "    print(\"Login successful!\")\n",
    "\n",
    "    # Now, you can access the protected page\n",
    "    protected_page = session.get(url)\n",
    "    html_write(protected_page.text)\n",
    "\n",
    "else:\n",
    "    print(\"Login failed. Please check your credentials.\")"
   ],
   "id": "73778268822add68",
   "outputs": [
    {
     "name": "stdout",
     "output_type": "stream",
     "text": [
      "Login successful!\n",
      "Protected Page Title: MCG Health Client Log In\n",
      "Content has been written.\n"
     ]
    }
   ],
   "execution_count": 466
  },
  {
   "metadata": {
    "ExecuteTime": {
     "end_time": "2024-11-18T18:35:52.391984Z",
     "start_time": "2024-11-18T18:35:52.390628Z"
    }
   },
   "cell_type": "code",
   "source": "",
   "id": "7f377983b67a417c",
   "outputs": [],
   "execution_count": null
  }
 ],
 "metadata": {
  "kernelspec": {
   "display_name": "Python 3",
   "language": "python",
   "name": "python3"
  },
  "language_info": {
   "codemirror_mode": {
    "name": "ipython",
    "version": 2
   },
   "file_extension": ".py",
   "mimetype": "text/x-python",
   "name": "python",
   "nbconvert_exporter": "python",
   "pygments_lexer": "ipython2",
   "version": "2.7.6"
  }
 },
 "nbformat": 4,
 "nbformat_minor": 5
}
