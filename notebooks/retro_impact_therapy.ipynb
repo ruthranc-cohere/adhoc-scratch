{
 "cells": [
  {
   "cell_type": "code",
   "id": "initial_id",
   "metadata": {
    "collapsed": true,
    "ExecuteTime": {
     "end_time": "2024-11-13T19:32:51.615896Z",
     "start_time": "2024-11-13T19:32:51.610787Z"
    }
   },
   "source": [
    "import pandas as pd\n",
    "import numpy as np\n",
    "from bokeh.layouts import column"
   ],
   "outputs": [],
   "execution_count": 68
  },
  {
   "metadata": {
    "ExecuteTime": {
     "end_time": "2024-11-13T19:32:51.634557Z",
     "start_time": "2024-11-13T19:32:51.621940Z"
    }
   },
   "cell_type": "code",
   "source": [
    "df = pd.read_csv(\"../data/therapy.csv\")\n",
    "df"
   ],
   "id": "dd570a08510ede3d",
   "outputs": [
    {
     "data": {
      "text/plain": [
       "                                          procedurecode\n",
       "0     97164, 97014, 97110, 97112, 97116, 97140, 9753...\n",
       "1       97035, G0283, 97110, 97112, 97116, 97140, 97530\n",
       "2     97113, 97150, 97535, 97110, 97112, 97116, 9714...\n",
       "3                     97140, 97530, 97112, 97116, 97110\n",
       "4                                          97530, 97116\n",
       "...                                                 ...\n",
       "3308          97039,97035,97760,97110,97112,97140,97530\n",
       "3309  97164,97018,97033,97139,97537,G0283,97110,9711...\n",
       "3310  97140,97530,97010,97110,97150,G0283,97116,9701...\n",
       "3311          97110,97530,97116,97112,97110,97112,97530\n",
       "3312                                              92630\n",
       "\n",
       "[3313 rows x 1 columns]"
      ],
      "text/html": [
       "<div>\n",
       "<style scoped>\n",
       "    .dataframe tbody tr th:only-of-type {\n",
       "        vertical-align: middle;\n",
       "    }\n",
       "\n",
       "    .dataframe tbody tr th {\n",
       "        vertical-align: top;\n",
       "    }\n",
       "\n",
       "    .dataframe thead th {\n",
       "        text-align: right;\n",
       "    }\n",
       "</style>\n",
       "<table border=\"1\" class=\"dataframe\">\n",
       "  <thead>\n",
       "    <tr style=\"text-align: right;\">\n",
       "      <th></th>\n",
       "      <th>procedurecode</th>\n",
       "    </tr>\n",
       "  </thead>\n",
       "  <tbody>\n",
       "    <tr>\n",
       "      <th>0</th>\n",
       "      <td>97164, 97014, 97110, 97112, 97116, 97140, 9753...</td>\n",
       "    </tr>\n",
       "    <tr>\n",
       "      <th>1</th>\n",
       "      <td>97035, G0283, 97110, 97112, 97116, 97140, 97530</td>\n",
       "    </tr>\n",
       "    <tr>\n",
       "      <th>2</th>\n",
       "      <td>97113, 97150, 97535, 97110, 97112, 97116, 9714...</td>\n",
       "    </tr>\n",
       "    <tr>\n",
       "      <th>3</th>\n",
       "      <td>97140, 97530, 97112, 97116, 97110</td>\n",
       "    </tr>\n",
       "    <tr>\n",
       "      <th>4</th>\n",
       "      <td>97530, 97116</td>\n",
       "    </tr>\n",
       "    <tr>\n",
       "      <th>...</th>\n",
       "      <td>...</td>\n",
       "    </tr>\n",
       "    <tr>\n",
       "      <th>3308</th>\n",
       "      <td>97039,97035,97760,97110,97112,97140,97530</td>\n",
       "    </tr>\n",
       "    <tr>\n",
       "      <th>3309</th>\n",
       "      <td>97164,97018,97033,97139,97537,G0283,97110,9711...</td>\n",
       "    </tr>\n",
       "    <tr>\n",
       "      <th>3310</th>\n",
       "      <td>97140,97530,97010,97110,97150,G0283,97116,9701...</td>\n",
       "    </tr>\n",
       "    <tr>\n",
       "      <th>3311</th>\n",
       "      <td>97110,97530,97116,97112,97110,97112,97530</td>\n",
       "    </tr>\n",
       "    <tr>\n",
       "      <th>3312</th>\n",
       "      <td>92630</td>\n",
       "    </tr>\n",
       "  </tbody>\n",
       "</table>\n",
       "<p>3313 rows × 1 columns</p>\n",
       "</div>"
      ]
     },
     "execution_count": 69,
     "metadata": {},
     "output_type": "execute_result"
    }
   ],
   "execution_count": 69
  },
  {
   "metadata": {
    "ExecuteTime": {
     "end_time": "2024-11-13T19:32:51.664307Z",
     "start_time": "2024-11-13T19:32:51.660394Z"
    }
   },
   "cell_type": "code",
   "source": [
    "procedures = df.procedurecode.to_numpy().flatten()\n",
    "procedures = \", \".join(procedures)\n",
    "procedures = procedures.split(',')"
   ],
   "id": "154bcd3d643e1af8",
   "outputs": [],
   "execution_count": 70
  },
  {
   "metadata": {
    "ExecuteTime": {
     "end_time": "2024-11-13T19:32:51.691760Z",
     "start_time": "2024-11-13T19:32:51.687835Z"
    }
   },
   "cell_type": "code",
   "source": [
    "procs = []\n",
    "for i in procedures:\n",
    "    i = i.strip()\n",
    "    procs += [i]"
   ],
   "id": "2c1ebbf7688ee63e",
   "outputs": [],
   "execution_count": 71
  },
  {
   "metadata": {
    "ExecuteTime": {
     "end_time": "2024-11-13T19:32:51.722180Z",
     "start_time": "2024-11-13T19:32:51.718842Z"
    }
   },
   "cell_type": "code",
   "source": [
    "proceduredf = pd.Series(data=procs).drop_duplicates().reset_index(drop=True)\n",
    "proceduredf.name = 'procedure_code'"
   ],
   "id": "491b345038de7a86",
   "outputs": [],
   "execution_count": 72
  },
  {
   "metadata": {
    "ExecuteTime": {
     "end_time": "2024-11-13T19:32:51.769214Z",
     "start_time": "2024-11-13T19:32:51.765329Z"
    }
   },
   "cell_type": "code",
   "source": "proceduredf",
   "id": "9e74517ad1923a8c",
   "outputs": [
    {
     "data": {
      "text/plain": [
       "0      97164\n",
       "1      97014\n",
       "2      97110\n",
       "3      97112\n",
       "4      97116\n",
       "       ...  \n",
       "138    62350\n",
       "139    62362\n",
       "140    L3730\n",
       "141    0101T\n",
       "142    92630\n",
       "Name: procedure_code, Length: 143, dtype: object"
      ]
     },
     "execution_count": 73,
     "metadata": {},
     "output_type": "execute_result"
    }
   ],
   "execution_count": 73
  },
  {
   "metadata": {},
   "cell_type": "markdown",
   "source": [
    "## Read from MCG webpage\n",
    "---"
   ],
   "id": "633a151b5aebb784"
  },
  {
   "metadata": {
    "ExecuteTime": {
     "end_time": "2024-11-13T20:35:16.644846Z",
     "start_time": "2024-11-13T20:35:16.638799Z"
    }
   },
   "cell_type": "code",
   "source": [
    "import requests\n",
    "from bs4 import BeautifulSoup"
   ],
   "id": "c06f1ff026db7f3b",
   "outputs": [],
   "execution_count": 79
  },
  {
   "metadata": {
    "ExecuteTime": {
     "end_time": "2024-11-13T20:37:37.173824Z",
     "start_time": "2024-11-13T20:37:37.171683Z"
    }
   },
   "cell_type": "code",
   "source": [
    "# Create a session object.\n",
    "session = requests.Session()"
   ],
   "id": "fa5b1136d45032c",
   "outputs": [],
   "execution_count": 86
  },
  {
   "metadata": {
    "ExecuteTime": {
     "end_time": "2024-11-13T20:37:38.035139Z",
     "start_time": "2024-11-13T20:37:37.579032Z"
    }
   },
   "cell_type": "code",
   "source": [
    "# Send a request to the webpage\n",
    "login_url = 'https://careweb.careguidelines.com'\n",
    "url = 'https://careweb.careguidelines.com/ed28/index.html'\n",
    "\n",
    "login_page = session.get(login_url)\n",
    "soup = BeautifulSoup(login_page.text, 'html.parser')\n",
    "csrf_token = soup.find('input', {'name': '__RequestVerificationToken'}).get('value')\n",
    "\n",
    "login_data = {\n",
    "    'User ID': 'cohere',\n",
    "    'Password': 'CHMCG2020',\n",
    "    # 'ReturnUrl': '/connect/authorize/callback',  # Replace with the appropriate return URL\n",
    "    # 'ClientId': 'careweb',\n",
    "    # 'UseAdfs': 'False',\n",
    "    '__RequestVerificationToken': csrf_token,\n",
    "}\n",
    "\n",
    "response = session.post(login_url, data=login_data)"
   ],
   "id": "93cae83800a7b89c",
   "outputs": [],
   "execution_count": 87
  },
  {
   "metadata": {
    "ExecuteTime": {
     "end_time": "2024-11-13T20:37:38.926313Z",
     "start_time": "2024-11-13T20:37:38.923719Z"
    }
   },
   "cell_type": "code",
   "source": [
    "if 'Welcome' in response.text:  # Adjust based on what confirms a successful login\n",
    "    print(\"Login successful!\")\n",
    "else:\n",
    "    print(\"Login failed.\")"
   ],
   "id": "e08deb292c6271b9",
   "outputs": [
    {
     "name": "stdout",
     "output_type": "stream",
     "text": [
      "Login failed.\n"
     ]
    }
   ],
   "execution_count": 88
  },
  {
   "metadata": {
    "ExecuteTime": {
     "end_time": "2024-11-13T19:32:53.704137Z",
     "start_time": "2024-11-13T19:32:53.701449Z"
    }
   },
   "cell_type": "code",
   "source": [
    "def html_write(html_doc):\n",
    "    \"\"\"\n",
    "    GET requests output html data.\n",
    "    Write this data into a .html file using BeautifulSoup parsing.\n",
    "    \"\"\"\n",
    "    \n",
    "    soup = BeautifulSoup(html_doc, 'html.parser')\n",
    "    title = soup.title.string\n",
    "    print(f\"Protected Page Title: {title}\")\n",
    "\n",
    "    # paragraphs = soup.find_all('p')\n",
    "    # for p in paragraphs:\n",
    "    #     print(p.get_text())\n",
    "\n",
    "    with open('../data/scratch.html', 'w') as file:\n",
    "        file.write(soup.prettify())\n",
    "    \n",
    "    print(\"Content has been written.\")"
   ],
   "id": "b731506a31b7e5e7",
   "outputs": [],
   "execution_count": 77
  },
  {
   "metadata": {
    "ExecuteTime": {
     "end_time": "2024-11-13T19:32:54.296194Z",
     "start_time": "2024-11-13T19:32:53.711082Z"
    }
   },
   "cell_type": "code",
   "source": [
    "if response.status_code == 200:\n",
    "    print(\"Login successful!\")\n",
    "\n",
    "    # Now, you can access the protected page\n",
    "    protected_page = session.get(url)\n",
    "    html_write(protected_page.text)\n",
    "\n",
    "else:\n",
    "    print(\"Login failed. Please check your credentials.\")"
   ],
   "id": "73778268822add68",
   "outputs": [
    {
     "name": "stdout",
     "output_type": "stream",
     "text": [
      "Login successful!\n",
      "Protected Page Title: MCG Health Client Log In\n",
      "Content has been written.\n"
     ]
    }
   ],
   "execution_count": 78
  },
  {
   "metadata": {
    "ExecuteTime": {
     "end_time": "2024-11-13T19:32:54.307125Z",
     "start_time": "2024-11-13T19:32:54.305477Z"
    }
   },
   "cell_type": "code",
   "source": "",
   "id": "7f377983b67a417c",
   "outputs": [],
   "execution_count": null
  }
 ],
 "metadata": {
  "kernelspec": {
   "display_name": "Python 3",
   "language": "python",
   "name": "python3"
  },
  "language_info": {
   "codemirror_mode": {
    "name": "ipython",
    "version": 2
   },
   "file_extension": ".py",
   "mimetype": "text/x-python",
   "name": "python",
   "nbconvert_exporter": "python",
   "pygments_lexer": "ipython2",
   "version": "2.7.6"
  }
 },
 "nbformat": 4,
 "nbformat_minor": 5
}
